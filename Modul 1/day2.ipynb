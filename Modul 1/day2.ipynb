{
 "cells": [
  {
   "cell_type": "code",
   "execution_count": 1,
   "metadata": {},
   "outputs": [
    {
     "data": {
      "text/plain": [
       "'zaraa zaraaifa'"
      ]
     },
     "execution_count": 1,
     "metadata": {},
     "output_type": "execute_result"
    }
   ],
   "source": [
    "nama = \"abdillah zaraaifa\"\n",
    "#ubah abdillah menjadi zaraa\n",
    "nama.replace('abdillah', 'zaraa')"
   ]
  },
  {
   "cell_type": "code",
   "execution_count": null,
   "metadata": {},
   "outputs": [],
   "source": []
  },
  {
   "cell_type": "code",
   "execution_count": 4,
   "metadata": {},
   "outputs": [
    {
     "data": {
      "text/plain": [
       "6"
      ]
     },
     "execution_count": 4,
     "metadata": {},
     "output_type": "execute_result"
    }
   ],
   "source": [
    "#Modulus (%) -> sisa pembagian \n",
    "300%7"
   ]
  },
  {
   "cell_type": "code",
   "execution_count": 6,
   "metadata": {},
   "outputs": [
    {
     "data": {
      "text/plain": [
       "3"
      ]
     },
     "execution_count": 6,
     "metadata": {},
     "output_type": "execute_result"
    }
   ],
   "source": [
    "#Floor Division (//) -> hasil pembagian dibulatkan ke bawah\n",
    "10//3"
   ]
  },
  {
   "cell_type": "code",
   "execution_count": 8,
   "metadata": {},
   "outputs": [
    {
     "data": {
      "text/plain": [
       "30"
      ]
     },
     "execution_count": 8,
     "metadata": {},
     "output_type": "execute_result"
    }
   ],
   "source": [
    "#Mempersingkat Assignment\n",
    "x = 10\n",
    "x *= 3 #artinya adalah x * 3\n",
    "x"
   ]
  },
  {
   "cell_type": "code",
   "execution_count": 17,
   "metadata": {},
   "outputs": [
    {
     "data": {
      "text/plain": [
       "9.486832980505138"
      ]
     },
     "execution_count": 17,
     "metadata": {},
     "output_type": "execute_result"
    }
   ],
   "source": [
    "#Library Math\n",
    "import math \n",
    "x = 90\n",
    "math.factorial(x) #faktorial\n",
    "math.sqrt(x) #akar pangkat"
   ]
  },
  {
   "cell_type": "code",
   "execution_count": 47,
   "metadata": {},
   "outputs": [
    {
     "name": "stdout",
     "output_type": "stream",
     "text": [
      "b is greater than a\n"
     ]
    }
   ],
   "source": [
    "a = 557\n",
    "b = 977\n",
    "if b > a :\n",
    "  print(\"b is greater than a\")\n",
    "elif b < a:\n",
    "  print(\"b is not greater than a\")\n",
    "else:\n",
    "  print(\"re-check\")"
   ]
  },
  {
   "cell_type": "code",
   "execution_count": 53,
   "metadata": {},
   "outputs": [
    {
     "name": "stdout",
     "output_type": "stream",
     "text": [
      "a adalah bilangan genap\n"
     ]
    }
   ],
   "source": [
    "a = 888\n",
    "if a%2 == 0: #kalau syaratnya operasi, harus == agar tidak bingung bacanya\n",
    "  print(\"a adalah bilangan genap\")\n",
    "else:\n",
    "  print(\"a bukan bilangan genap\")"
   ]
  },
  {
   "cell_type": "code",
   "execution_count": 61,
   "metadata": {},
   "outputs": [
    {
     "name": "stdout",
     "output_type": "stream",
     "text": [
      "a adalah bilangan genap atau a lebih dari b\n"
     ]
    }
   ],
   "source": [
    "a = 1000\n",
    "b = 999\n",
    "if a%2 == 0 and a>b: #kalau syaratnya operasi, harus == agar tidak bingung bacanya\n",
    "  print(\"a adalah bilangan genap atau a lebih dari b\")\n",
    "else:\n",
    "  print(\"a bukan bilangan genap dan tidak lebih besar dari b\")"
   ]
  },
  {
   "cell_type": "code",
   "execution_count": 75,
   "metadata": {},
   "outputs": [
    {
     "name": "stdout",
     "output_type": "stream",
     "text": [
      "buah ini bukan anggur\n"
     ]
    }
   ],
   "source": [
    "buah = 'jeruk'\n",
    "if not buah == 'anggur': #harus == agar berbeda dari variabel\n",
    "    print('buah ini bukan anggur')\n",
    "else:\n",
    "    print('coba buah lain')"
   ]
  },
  {
   "cell_type": "code",
   "execution_count": 3,
   "metadata": {},
   "outputs": [
    {
     "name": "stdout",
     "output_type": "stream",
     "text": [
      "x kurang dari 5\n",
      "tidak ada kondisi yang benar\n"
     ]
    }
   ],
   "source": [
    "x = 10\n",
    "if x > 5:\n",
    "    print('x kurang dari 5')\n",
    "    ##ini tidak ada else jadinya hanya akan jalan kalau if terpenuhi\n",
    "    ##kalau if tidak terpenuhi tidak ada hasil\n",
    "if x < 7:\n",
    "    print('x lebih dari 7')\n",
    "else:\n",
    "    print('tidak ada kondisi yang benar') ##else ini hanya milik if terdekat (x < 7)"
   ]
  },
  {
   "cell_type": "code",
   "execution_count": 45,
   "metadata": {},
   "outputs": [
    {
     "name": "stdout",
     "output_type": "stream",
     "text": [
      "Anda telah cukup umur\n",
      "Terima Kasih!\n"
     ]
    }
   ],
   "source": [
    "#SOAL NOMOR 1\n",
    "umur = input(\"Masukkan tanggal lahir dengan format dd-mm-yyy = \")\n",
    "tahun = int(umur.split(sep='-')[2])\n",
    "batas = 2025 - tahun \n",
    "if batas >= 17:\n",
    "    print('Anda telah cukup umur')\n",
    "else:\n",
    "    print('Anda belum cukup umur')\n",
    "print('Terima Kasih!')\n"
   ]
  },
  {
   "cell_type": "code",
   "execution_count": 14,
   "metadata": {},
   "outputs": [
    {
     "name": "stdout",
     "output_type": "stream",
     "text": [
      "Mohon maaf Anda tidak lulus\n"
     ]
    }
   ],
   "source": [
    "#SOAL NOMOR 2\n",
    "nilai_IPA = int(input(\"Masukkan Nilai IPA Anda = \"))\n",
    "nilai_IPS = int(input(\"Masukkan nilai IPS Anda = \"))\n",
    "if nilai_IPA > 80 and nilai_IPS > 80:\n",
    "    print('Anda Lulus')\n",
    "elif nilai_IPA > 80 or nilai_IPS > 80:\n",
    "    print('Ulangi pada salah satu ujian')\n",
    "else: \n",
    "    print('Mohon maaf Anda tidak lulus')"
   ]
  },
  {
   "cell_type": "code",
   "execution_count": 17,
   "metadata": {},
   "outputs": [
    {
     "name": "stdout",
     "output_type": "stream",
     "text": [
      "Angka yang Anda masukkan adalah Angka Ganjil\n"
     ]
    }
   ],
   "source": [
    "#SOAL NOMOR 3\n",
    "angka = int(input(\"Masukkan angka random =\"))\n",
    "if angka%2 == 0:\n",
    "    print(\"Angka yang Anda masukkan adalah Angka Genap\")\n",
    "elif angka%2 != 0:\n",
    "    print(\"Angka yang Anda masukkan adalah Angka Ganjil\")"
   ]
  },
  {
   "cell_type": "code",
   "execution_count": 47,
   "metadata": {},
   "outputs": [
    {
     "name": "stdout",
     "output_type": "stream",
     "text": [
      "Angkanya benar\n"
     ]
    }
   ],
   "source": [
    "#SOAL NOMOR 4\n",
    "angka = int(input(\"Masukkan angka random antara 1-100 = \"))\n",
    "if (angka >= 50 and angka <= 100) and ((angka%2 == 0) or (angka%5 == 0)):\n",
    "    print(\"Angkanya benar\")\n",
    "else:\n",
    "    print(\"Angkanya salah\")"
   ]
  },
  {
   "cell_type": "code",
   "execution_count": 36,
   "metadata": {},
   "outputs": [
    {
     "name": "stdout",
     "output_type": "stream",
     "text": [
      "Siswa Tidak Lulus\n"
     ]
    }
   ],
   "source": [
    "#SOAL NOMOR 5\n",
    "nilai_matematika = int(input(\"Masukkan nilai matematika Anda = \"))\n",
    "nilai_fisika = int(input(\"Masukkan nilai fisika Anda = \"))\n",
    "nilai_kimia = int(input(\"Masukkan nilai kimia Anda = \"))\n",
    "if nilai_matematika >= 70:\n",
    "    if nilai_fisika >= 60:\n",
    "        if nilai_kimia >= 65:\n",
    "            print(\"Siswa Lulus\")\n",
    "        elif nilai_kimia < 65:\n",
    "            print(\"Siswa Tidak Lulus\")\n",
    "    elif nilai_fisika < 60:\n",
    "        print(\"Siswa Tidak Lulus\")\n",
    "else:\n",
    "    print(\"Siswa Tidak Lulus\")"
   ]
  },
  {
   "cell_type": "code",
   "execution_count": 49,
   "metadata": {},
   "outputs": [
    {
     "name": "stdout",
     "output_type": "stream",
     "text": [
      "dikenakan pajak 15%, maka pajak yang harus dibayarkan adalah = Rp 45000000.0\n",
      "Terima kasih!\n"
     ]
    }
   ],
   "source": [
    "#SOAL NOMOR 6\n",
    "penghasilan = int(input(\"Masukkan penghasilan Anda\"))\n",
    "status = str(input(\"Apakah Anda sudah menikah? (Sudah/Belum)\"))\n",
    "if status == \"Sudah\":\n",
    "    if penghasilan<100000000:\n",
    "        print(\"tidak dikenakan pajak\")\n",
    "    elif(penghasilan >100000000 and penghasilan <300000000):\n",
    "        print (f\"dikenakan pajak 7% maka pajak yang harus dibayarkan = Rp {penghasilan*(7/100)}\")\n",
    "    else:\n",
    "        print(f\"dikenakan pajak 15%, maka pajak yang harus dibayarkan adalah = Rp {penghasilan*(15/100)}\")\n",
    "elif status == \"Belum\":\n",
    "    if penghasilan <50000000:\n",
    "        print(\"tidak dikenakan pajak\")\n",
    "    elif (penghasilan >50000000 and penghasilan <100000000):\n",
    "        print(f\"dikenakan pajak 5%, maka pajak yang harus dibayarkan = Rp{penghasilan*(5/100)}\")\n",
    "    else: \n",
    "        print(f\"dikenakan pajak 20%, maka pajak yang harus dibayarkan adalah Rp{penghasilan*(20/100)}\")\n",
    "else:\n",
    "    print(\"Anda memasukkan status di luar 'Sudah/Belum'. Silahkan masukkan kembali\")\n",
    "print(\"Terima kasih!\")\n",
    "              "
   ]
  },
  {
   "cell_type": "code",
   "execution_count": null,
   "metadata": {},
   "outputs": [],
   "source": []
  },
  {
   "cell_type": "code",
   "execution_count": null,
   "metadata": {},
   "outputs": [],
   "source": []
  }
 ],
 "metadata": {
  "kernelspec": {
   "display_name": "Python 3",
   "language": "python",
   "name": "python3"
  },
  "language_info": {
   "codemirror_mode": {
    "name": "ipython",
    "version": 3
   },
   "file_extension": ".py",
   "mimetype": "text/x-python",
   "name": "python",
   "nbconvert_exporter": "python",
   "pygments_lexer": "ipython3",
   "version": "3.13.1"
  }
 },
 "nbformat": 4,
 "nbformat_minor": 2
}
