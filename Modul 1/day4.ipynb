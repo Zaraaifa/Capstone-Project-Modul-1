{
 "cells": [
  {
   "cell_type": "markdown",
   "metadata": {},
   "source": [
    "LOOPING"
   ]
  },
  {
   "cell_type": "code",
   "execution_count": 17,
   "metadata": {},
   "outputs": [
    {
     "name": "stdout",
     "output_type": "stream",
     "text": [
      "angka sekarang adalah 10\n",
      "angka setelah ditambah -> 11\n",
      "angka sekarang adalah 11\n",
      "angka setelah ditambah -> 12\n",
      "angka sekarang adalah 12\n",
      "angka setelah ditambah -> 13\n",
      "angka sekarang adalah 13\n",
      "angka setelah ditambah -> 14\n",
      "angka sekarang adalah 14\n",
      "angka setelah ditambah -> 15\n",
      "angka sekarag sudah 15. SELESAI\n"
     ]
    }
   ],
   "source": [
    "# 1. WHILE LOOP\n",
    "angka = 10\n",
    "while angka <15: #selama while masih true, angka akan terus bertambah sampai while menjadi false\n",
    "    print(f\"angka sekarang adalah {angka}\") \n",
    "    angka += 1\n",
    "    print(f\"angka setelah ditambah -> {angka}\")\n",
    "    if angka == 15:\n",
    "        print(\"angka sekarag sudah 15. SELESAI\")\n",
    "        break\n"
   ]
  },
  {
   "cell_type": "code",
   "execution_count": 29,
   "metadata": {},
   "outputs": [
    {
     "name": "stdout",
     "output_type": "stream",
     "text": [
      "1\n",
      "2\n",
      "3\n",
      "a\n",
      "b\n",
      "c\n",
      "true\n"
     ]
    }
   ],
   "source": [
    "# 2. FOR LOOP\n",
    "\n",
    "list_angka = [1,2,3,'a','b','c','true'] #jika dalam list, angka akan diambil 1 1 selama kondisi loop masih true\n",
    "for i in list_angka:\n",
    "    print(i)"
   ]
  },
  {
   "cell_type": "code",
   "execution_count": 41,
   "metadata": {},
   "outputs": [
    {
     "name": "stdout",
     "output_type": "stream",
     "text": [
      "Nilai Anda 100, selamat Anda lulus!\n",
      "Nilai Anda 80, selamat Anda lulus!\n",
      "Nilai Anda 20, sayang sekali Anda tidak lulus!\n",
      "Nilai Anda 80, selamat Anda lulus!\n",
      "Nilai Anda 90, selamat Anda lulus!\n",
      "Nilai Anda 100, selamat Anda lulus!\n",
      "Nilai Anda 70, sayang sekali Anda tidak lulus!\n",
      "Nilai Anda 40, sayang sekali Anda tidak lulus!\n",
      "Nilai Anda 80, selamat Anda lulus!\n",
      "Nilai Anda 90, selamat Anda lulus!\n"
     ]
    }
   ],
   "source": [
    "# LATIHAN\n",
    "\n",
    "nilai = [100, 80, 20, 80, 90, 100, 70, 40, 80, 90]\n",
    "for angka in nilai:\n",
    "    if angka >= 80: print(f\"Nilai Anda {angka}, selamat Anda lulus!\")\n",
    "    else: print(f\"Nilai Anda {angka}, sayang sekali Anda tidak lulus!\")"
   ]
  },
  {
   "cell_type": "code",
   "execution_count": 9,
   "metadata": {},
   "outputs": [
    {
     "name": "stdout",
     "output_type": "stream",
     "text": [
      "Angka 0 merupakan bilangan genap\n",
      "Angka 2 merupakan bilangan genap\n",
      "Angka 4 merupakan bilangan genap\n",
      "Angka 6 merupakan bilangan genap\n",
      "Angka 8 merupakan bilangan genap\n"
     ]
    }
   ],
   "source": [
    "# RANGE DI FOR LOOP\n",
    "\n",
    "for angka in range(10):\n",
    "    if angka % 2 == 0:\n",
    "        print(f'Angka {angka} merupakan bilangan genap')"
   ]
  },
  {
   "cell_type": "code",
   "execution_count": 12,
   "metadata": {},
   "outputs": [
    {
     "name": "stdout",
     "output_type": "stream",
     "text": [
      "Nama anda adalah jambu\n",
      "Nama anda adalah jeruk\n",
      "Nama anda adalah semangka\n",
      "Nama anda adalah melon\n",
      "Nama anda adalah pisang\n",
      "pisang\n"
     ]
    }
   ],
   "source": [
    "for x in range(5): #kalau kaya gini akan meminta input sebanyak 5 kali\n",
    "    buah = input(\"Masukkan nama buah: \")\n",
    "    print(f\"Nama anda adalah {buah}\")\n",
    "\n",
    "print(buah) #print di akhir akan menampilkan hasil inputan terakhir"
   ]
  },
  {
   "cell_type": "code",
   "execution_count": 6,
   "metadata": {},
   "outputs": [
    {
     "name": "stdout",
     "output_type": "stream",
     "text": [
      "['zara', 'ziri', 'zuru']\n"
     ]
    }
   ],
   "source": [
    "list_nama = []\n",
    "\n",
    "for x in range(3):\n",
    "    nama = input(f\"Masukkan nama ke-{x} : \")\n",
    "    list_nama.append(nama)\n",
    "\n",
    "list_nama.sort()\n",
    "print(list_nama)"
   ]
  },
  {
   "cell_type": "code",
   "execution_count": 7,
   "metadata": {},
   "outputs": [
    {
     "name": "stdout",
     "output_type": "stream",
     "text": [
      "Index ke-0 adalah zaraa\n",
      "Index ke-1 adalah zaraa\n",
      "Index ke-2 adalah zaraa\n",
      "[(0, 'zaraa'), (1, 'zaraa'), (2, 'zaraa')]\n"
     ]
    }
   ],
   "source": [
    "## ENUMERATE (untuk melihat index dari list)\n",
    "\n",
    "list_nama = ['zaraa', 'zaraa', 'zaraa']\n",
    "for index, nama in enumerate(list_nama):\n",
    "    print(f\"Index ke-{index} adalah {nama}\")\n",
    "\n",
    "print(list(enumerate(list_nama)))"
   ]
  },
  {
   "cell_type": "code",
   "execution_count": 14,
   "metadata": {},
   "outputs": [
    {
     "name": "stdout",
     "output_type": "stream",
     "text": [
      "ZA ukuran sepatunya adalah 38\n",
      "ZI ukuran sepatunya adalah 39\n",
      "ZU ukuran sepatunya adalah 40\n"
     ]
    }
   ],
   "source": [
    "## ZIP (untuk menggabungkan 2 list)\n",
    "\n",
    "ukuran = [38, 39, 40]\n",
    "nama = ['ZA', 'ZI', 'ZU']\n",
    "\n",
    "for nama, ukuran in zip(nama, ukuran):\n",
    "    print(f\"{nama} ukuran sepatunya adalah {ukuran}\")"
   ]
  },
  {
   "cell_type": "code",
   "execution_count": 21,
   "metadata": {},
   "outputs": [
    {
     "name": "stdout",
     "output_type": "stream",
     "text": [
      "{'ZA': 100, 'ZI': 80, 'ZU': 70}\n",
      "80\n"
     ]
    }
   ],
   "source": [
    "nama = ['ZA', 'ZI', 'ZU']\n",
    "nilai = [100, 80, 70]\n",
    "\n",
    "dict_nilai = dict(zip(nama, nilai))\n",
    "print(dict_nilai)\n",
    "\n",
    "pilih = input(\"Masukkan nama: \").upper()\n",
    "print(dict_nilai[pilih])"
   ]
  },
  {
   "cell_type": "markdown",
   "metadata": {},
   "source": [
    "LATIHAN SOAL"
   ]
  },
  {
   "cell_type": "code",
   "execution_count": 39,
   "metadata": {},
   "outputs": [
    {
     "name": "stdout",
     "output_type": "stream",
     "text": [
      "Angka harus lebih dari 10. Coba lagi\n",
      "Angka harus lebih dari 10. Coba lagi\n",
      "Angka yang habis dibagi 3 sampai 12 adalah: \n",
      "3\n",
      "6\n",
      "9\n",
      "12\n"
     ]
    }
   ],
   "source": [
    "#WHILE LOOP\n",
    "\n",
    "angka = 0\n",
    "while True:\n",
    "    angka = int(input(\"masukkan Angka yang > 10: \"))\n",
    "    if angka > 10:\n",
    "        break\n",
    "    else:\n",
    "        print(\"Angka harus lebih dari 10. Coba lagi\")\n",
    "print(f\"Angka yang habis dibagi 3 sampai {angka} adalah: \")\n",
    "for i in range(1, angka+1):\n",
    "    if i % 3 == 0:\n",
    "        print(i)\n"
   ]
  },
  {
   "cell_type": "code",
   "execution_count": 40,
   "metadata": {},
   "outputs": [
    {
     "name": "stdout",
     "output_type": "stream",
     "text": [
      "Nama anda adalah za di kelas A\n",
      "Nama anda adalah zi di kelas A\n",
      "Nama anda adalah zu di kelas A\n"
     ]
    }
   ],
   "source": [
    "#FOR LOOP 1\n",
    "list_nama = []\n",
    "for x in range(3):\n",
    "    nama = input(f\"Masukkan nama ke-{x} : \")\n",
    "    print(f\"Nama anda adalah {nama} di kelas A\")\n",
    "    \n"
   ]
  },
  {
   "cell_type": "code",
   "execution_count": 45,
   "metadata": {},
   "outputs": [
    {
     "name": "stdout",
     "output_type": "stream",
     "text": [
      "Nama zara di kelas A\n",
      "Nama achie di kelas B\n",
      "Nama alisya di kelas C\n"
     ]
    }
   ],
   "source": [
    "#FOR LOOP 2\n",
    "list_nama = []\n",
    "for x in range(3):\n",
    "    nama = input(f\"Masukkan nama ke-{x} : \")\n",
    "    list_nama.append(nama)\n",
    "\n",
    "list_kelas = ['A', 'B', 'C']\n",
    "\n",
    "for nama, kelas in zip(list_nama, list_kelas):\n",
    "    print(f\"Nama {nama} di kelas {kelas}\")\n",
    "    "
   ]
  },
  {
   "cell_type": "code",
   "execution_count": 9,
   "metadata": {},
   "outputs": [
    {
     "name": "stdout",
     "output_type": "stream",
     "text": [
      "angka 1 sudah ketemu! berapa pada index ke-0\n"
     ]
    }
   ],
   "source": [
    "#BREAK 1\n",
    "list_angka = [1,5,4,3,2,6,9,8,7]\n",
    "\n",
    "cari = int(input(\"Masukkan angka yang ingin dicari: \"))\n",
    "\n",
    "for angka in list_angka:\n",
    "    if cari == angka:\n",
    "        print(f\"angka {angka} sudah ketemu! berapa pada index ke-{list_angka.index(angka)}\")\n",
    "        break\n",
    "    else:\n",
    "        print(\"Proses mencari ...\")\n",
    "\n"
   ]
  },
  {
   "cell_type": "code",
   "execution_count": 7,
   "metadata": {},
   "outputs": [
    {
     "name": "stdout",
     "output_type": "stream",
     "text": [
      "1\n",
      "2\n",
      "3\n",
      "4\n",
      "6\n",
      "7\n",
      "8\n",
      "9\n",
      "10\n"
     ]
    }
   ],
   "source": [
    "# BREAK 2\n",
    "angka = 0\n",
    "while True:\n",
    "    angka = int(input(\"masukkan Angka antara  1-20: \"))\n",
    "    if 1 < angka < 20:\n",
    "        break\n",
    "    else:\n",
    "        print(\"Angka harus sesuai. Coba lagi\")\n",
    "\n",
    "for i in range(1, angka+1):\n",
    "    if i != 5:\n",
    "        print(i)\n"
   ]
  },
  {
   "cell_type": "code",
   "execution_count": 5,
   "metadata": {},
   "outputs": [
    {
     "name": "stdout",
     "output_type": "stream",
     "text": [
      "genap\n",
      "1\n",
      "genap\n",
      "3\n",
      "genap\n",
      "5\n",
      "genap\n",
      "7\n",
      "genap\n",
      "9\n",
      "genap\n"
     ]
    }
   ],
   "source": [
    "# BREAK 3\n",
    "angka = 0\n",
    "while True:\n",
    "    angka = int(input(\"masukkan Angka antara  1-20: \"))\n",
    "    if 1 < angka < 20:\n",
    "        break\n",
    "    else:\n",
    "        print(\"Angka harus sesuai. Coba lagi\")\n",
    "\n",
    "for angka in range(0, angka+1):\n",
    "    if angka % 2 != 0:\n",
    "        print(angka)\n",
    "    elif angka % 2 == 0:\n",
    "        print('genap')"
   ]
  },
  {
   "cell_type": "code",
   "execution_count": 2,
   "metadata": {},
   "outputs": [
    {
     "name": "stdout",
     "output_type": "stream",
     "text": [
      "Kalimat sebelumnya: kutub utara itu dingin\n",
      "Kalimat baru: kutu* ut*r* itu dingin\n"
     ]
    }
   ],
   "source": [
    "# BREAK 4\n",
    "\n",
    "#mengganti a menjadi *\n",
    "while True:\n",
    "    kalimat = input(\"Masukkan kalimat: \")\n",
    "    print(f'Kalimat sebelumnya: {kalimat}') #print kalimat sebelum diubah (kalimat)\n",
    "    if 'a' or 'b' in kalimat:\n",
    "        kalimat = kalimat.replace('a', '*').replace('b', '*')\n",
    "        print(f\"Kalimat baru: {kalimat}\") #print kalimat setelah diubah (kalimat)\n",
    "        break\n",
    "    else:\n",
    "        print(\"tidak ada a atau b\")\n",
    "        break\n"
   ]
  },
  {
   "cell_type": "code",
   "execution_count": 43,
   "metadata": {},
   "outputs": [
    {
     "name": "stdout",
     "output_type": "stream",
     "text": [
      "1\n",
      "genap\n",
      "3\n",
      "genap\n",
      "5\n",
      "genap\n",
      "7\n",
      "genap\n",
      "9\n",
      "genap\n"
     ]
    }
   ],
   "source": [
    "# BREAK 5\n",
    "angka = 0\n",
    "while True:\n",
    "    angka = int(input(\"masukkan Angka antara  1-20: \"))\n",
    "    if 1 < angka < 20:\n",
    "        break\n",
    "    else:\n",
    "        print(\"Angka harus sesuai. Coba lagi\")\n",
    "\n",
    "for angka in range(1, angka+1):\n",
    "    if angka % 2 != 0:\n",
    "        print(angka)\n",
    "    elif angka % 2 == 0:\n",
    "        print('genap')"
   ]
  },
  {
   "cell_type": "markdown",
   "metadata": {},
   "source": [
    "PRACTICE"
   ]
  },
  {
   "cell_type": "code",
   "execution_count": 1,
   "metadata": {},
   "outputs": [
    {
     "ename": "NameError",
     "evalue": "name 'angka' is not defined",
     "output_type": "error",
     "traceback": [
      "\u001b[1;31m---------------------------------------------------------------------------\u001b[0m",
      "\u001b[1;31mNameError\u001b[0m                                 Traceback (most recent call last)",
      "Cell \u001b[1;32mIn[1], line 5\u001b[0m\n\u001b[0;32m      3\u001b[0m \u001b[38;5;28;01mwhile\u001b[39;00m \u001b[38;5;28;01mTrue\u001b[39;00m:\n\u001b[0;32m      4\u001b[0m     angka_masukan \u001b[38;5;241m=\u001b[39m \u001b[38;5;28mint\u001b[39m(\u001b[38;5;28minput\u001b[39m(\u001b[38;5;124m\"\u001b[39m\u001b[38;5;124mMasukkan angka 1-9 : \u001b[39m\u001b[38;5;124m\"\u001b[39m))\n\u001b[1;32m----> 5\u001b[0m     \u001b[38;5;28;01mif\u001b[39;00m \u001b[38;5;241m1\u001b[39m \u001b[38;5;241m<\u001b[39m \u001b[43mangka\u001b[49m \u001b[38;5;241m<\u001b[39m \u001b[38;5;241m9\u001b[39m:\n\u001b[0;32m      6\u001b[0m         \u001b[38;5;28mprint\u001b[39m(\u001b[38;5;124m\"\u001b[39m\u001b[38;5;124mAngka yang Anda masukkan sesuai\u001b[39m\u001b[38;5;124m\"\u001b[39m)\n\u001b[0;32m      7\u001b[0m         hasil \u001b[38;5;241m=\u001b[39m angka_masukan\u001b[38;5;241m*\u001b[39m\u001b[38;5;241m*\u001b[39m\u001b[38;5;241m2\u001b[39m\n",
      "\u001b[1;31mNameError\u001b[0m: name 'angka' is not defined"
     ]
    }
   ],
   "source": [
    "# SOAL 1  BIASA\n",
    "\n",
    "while True:\n",
    "    angka_masukan = int(input(\"Masukkan angka 1-9 : \"))\n",
    "    if 1 < angka < 9:\n",
    "        print(\"Angka yang Anda masukkan sesuai\")\n",
    "        hasil = angka_masukan**2\n",
    "        print(f\"Hasil kuadrat dari {angka} adalah {hasil}\")\n",
    "        break\n",
    "    else: \n",
    "        print(\"Angka yang Anda masukkan tidak sesuai. Mohon masukkan angka 1-9 saja.\")\n",
    "\n",
    "\n",
    "\n"
   ]
  },
  {
   "cell_type": "code",
   "execution_count": 6,
   "metadata": {},
   "outputs": [
    {
     "name": "stdout",
     "output_type": "stream",
     "text": [
      "Masukan Anda tidak valid. Masukkan angka lagi\n",
      "Angka yang Anda masukkan sesuai\n",
      "Hasil kuadrat dari 5 adalah 25\n"
     ]
    }
   ],
   "source": [
    "# SOAL 1 WITH TRY & EXCEPT\n",
    "while True:\n",
    "    try:\n",
    "        angka = int(input(\"Masukkan angka 1-9 : \"))\n",
    "        if 1 <= angka <= 9:\n",
    "            print(\"Angka yang Anda masukkan sesuai\")\n",
    "            hasil = angka**2\n",
    "            print(f\"Hasil kuadrat dari {angka} adalah {hasil}\")\n",
    "            break\n",
    "        else: \n",
    "            print(\"Angka yang Anda masukkan tidak sesuai. Mohon hanya masukkan angka 1-9 saja.\")\n",
    "    except ValueError:\n",
    "        print(\"Masukan Anda tidak valid. Masukkan angka lagi\")"
   ]
  },
  {
   "cell_type": "code",
   "execution_count": 27,
   "metadata": {},
   "outputs": [
    {
     "name": "stdout",
     "output_type": "stream",
     "text": [
      "SELAMAT DATA DI SISTEM PENDAFTARAN\n",
      "Nama Anda adalah Abdillah      Zaraa A\n",
      "Terimakasih. Anda telah terdaftar sebagai Abdillah!\n"
     ]
    }
   ],
   "source": [
    "#SOAL 2\n",
    "print(\"SELAMAT DATA DI SISTEM PENDAFTARAN\")\n",
    "while True:\n",
    "    nama = input(\"Masukkan nama (minimal 2 kata dan tanpa angka): \").title().strip()\n",
    "    try:\n",
    "        print(f\"Nama Anda adalah {nama}\")\n",
    "        kata = nama.split()\n",
    "        if len(kata) >= 2 and all(word.isalpha() for word in kata):\n",
    "            print(f\"Terimakasih. Anda telah terdaftar sebagai {nama.split()[0]}!\")\n",
    "            break\n",
    "        else: \n",
    "            print(\"Masukkan minimal 2 kata dan tidak boleh ada angka\")\n",
    "    except ValueError:\n",
    "        print(\"Masukan Anda tidak valid. Masukkan nama lagi\")"
   ]
  },
  {
   "cell_type": "code",
   "execution_count": 2,
   "metadata": {},
   "outputs": [
    {
     "name": "stdout",
     "output_type": "stream",
     "text": [
      "SELAMAT DATA DI SISTEM PENDAFTARAN\n",
      "Nama Anda adalah Zara Ziri\n",
      "Terimakasih. Anda telah terdaftar sebagai Zara!\n"
     ]
    }
   ],
   "source": [
    "#SOAL 2\n",
    "print(\"SELAMAT DATA DI SISTEM PENDAFTARAN\")\n",
    "while True:\n",
    "    nama = input(\"Masukkan nama (minimal 2 kata dan tanpa angka): \").title().strip()\n",
    "    try:\n",
    "        print(f\"Nama Anda adalah {nama}\")\n",
    "        kata = nama.split()\n",
    "        if len(kata) >= 2 and nama.replace(\" \", \"\").isalpha():\n",
    "            print(f\"Terimakasih. Anda telah terdaftar sebagai {kata[0]}!\")\n",
    "            break\n",
    "        else: \n",
    "            print(\"Masukkan minimal 2 kata dan tidak boleh ada angka\")\n",
    "    except ValueError:\n",
    "        print(\"Masukan Anda tidak valid. Masukkan nama lagi\")"
   ]
  },
  {
   "cell_type": "code",
   "execution_count": 8,
   "metadata": {},
   "outputs": [
    {
     "name": "stdout",
     "output_type": "stream",
     "text": [
      "SELAMAT DATANG DI TOKO BUAH\n",
      "Stok buah hari ini :\n",
      "Apel = 100\n",
      "Jeruk = 100\n",
      "Anggur = 100\n",
      "\n",
      "Jumlah Apel   : 1\n",
      "Jumlah Jeruk  : 1\n",
      "Jumlah Anggur : 1\n",
      "\n",
      "Harga apel   = 1 x 10,000 = Rp 10,000\n",
      "Harga jeruk  = 1 x 15,000 = Rp 15,000\n",
      "Harga anggur = 1 x 2,0000 = Rp 20,000\n",
      "\n",
      "Total harga yang harus dibayarkan = Rp 45,000\n",
      "Transaksi Anda berhasil. \n",
      "Kembalian Anda = Rp 5,000. Terima Kasih!\n",
      "\n",
      "Sisa stock buah hari ini :\n",
      "Apel = 99\n",
      "Jeruk = 99\n",
      "Anggur = 99\n",
      "\n"
     ]
    }
   ],
   "source": [
    "##SOAL NOMOR 3\n",
    "\n",
    "price = {'Apel': 15000,\n",
    "         'Jeruk': 20000,\n",
    "         'Anggur': 25000}\n",
    "\n",
    "stock = {'Apel': 100,\n",
    "         'Jeruk': 100,\n",
    "         'Anggur': 100}\n",
    "\n",
    "print(f\"\"\"SELAMAT DATANG DI TOKO BUAH\n",
    "Stok buah hari ini :\n",
    "Apel = {stock['Apel']}\n",
    "Jeruk = {stock['Jeruk']}\n",
    "Anggur = {stock['Anggur']}\n",
    "\"\"\")\n",
    "\n",
    "while True:\n",
    "    try:\n",
    "        apel = int(input(\"Masukkan jumlah Apel yang ingin dibeli = \"))\n",
    "        print(f\"Jumlah Apel   : {apel}\")\n",
    "        jeruk = int(input(\"Masukkan jumlah Jeruk yang ingin dibeli = \"))\n",
    "        print(f\"Jumlah Jeruk  : {jeruk}\")\n",
    "        anggur = int(input(\"Masukkan jumlah Anggur yang ingin dibeli = \"))\n",
    "        print(f\"Jumlah Anggur : {anggur}\")\n",
    "        if apel <= stock[\"Apel\"] and jeruk <= stock[\"Jeruk\"] and anggur <= stock[\"Anggur\"]:\n",
    "            break\n",
    "        else: \n",
    "            print(\"Stock tidak tidak tersedia\")\n",
    "            print(f\"\"\"Stok buah hari ini :\n",
    "    Apel = {stock['Apel']}\n",
    "    Jeruk = {stock['Jeruk']}\n",
    "    Anggur = {stock['Anggur']}\n",
    "    \"\"\")\n",
    "    except ValueError:\n",
    "        print(\"Masukan Anda tidak valid. Masukkan hanya dengan angka\")\n",
    "\n",
    "harga_apel = apel * price['Apel']\n",
    "print(f\"\\nHarga apel   = {apel} x Rp 10,000 = Rp {harga_apel:,}\")\n",
    "harga_jeruk = jeruk * price['Jeruk']\n",
    "print(f\"Harga jeruk  = {jeruk} x Rp 15,000  = Rp {harga_jeruk:,}\")\n",
    "harga_anggur = anggur * price['Anggur']\n",
    "print(f\"Harga anggur = {anggur} x Rp 2,0000 = Rp {harga_anggur:,}\")\n",
    "total_harga = harga_apel + harga_jeruk + harga_anggur\n",
    "print(f\"\\nTotal harga yang harus dibayarkan = Rp {total_harga:,}\")\n",
    "\n",
    "while True:\n",
    "    uang = int(input(\"Masukkan jumlah uang yang dibayarkan (hanya angka tanpa titik)= \"))\n",
    "    if uang > total_harga:\n",
    "        kembalian = uang - total_harga\n",
    "        print(f\"Transaksi Anda berhasil. \\nKembalian Anda = Rp {kembalian:,}. Terima Kasih!\")\n",
    "        break\n",
    "    elif uang == total_harga:\n",
    "        print(\"Transaksi Anda berhasil. Terima kasih!\")\n",
    "        break\n",
    "    else:\n",
    "        print(\"Transaksi Anda gagal. Uang yang Anda masukkan tidak cukup\")\n",
    "\n",
    "sisa_Apel = stock['Apel'] - apel\n",
    "sisa_Jeruk = stock['Jeruk'] - jeruk\n",
    "sisa_Anggur = stock['Anggur'] - anggur\n",
    "\n",
    "\n",
    "print(f\"\"\"\n",
    "Sisa stock buah hari ini :\n",
    "Apel = {sisa_Apel}\n",
    "Jeruk = {sisa_Jeruk}\n",
    "Anggur = {sisa_Anggur}\n",
    "\"\"\")"
   ]
  },
  {
   "cell_type": "code",
   "execution_count": 11,
   "metadata": {},
   "outputs": [
    {
     "name": "stdout",
     "output_type": "stream",
     "text": [
      "SELAMAT DATANG DI TOKO BUAH\n",
      "Stok buah hari ini :\n",
      "Apel = 100\n",
      "Jeruk = 100\n",
      "Anggur = 100\n",
      "Jumlah Jeruk  : 1\n",
      "Jumlah Apel   : 1\n",
      "Jumlah Anggur : 1\n",
      "Harga jeruk  = 1 x Rp 15,000  = Rp 15,000\n",
      "Harga apel   = 1 x Rp 10,000 = Rp 10,000\n",
      "Harga anggur = 1 x Rp 2,0000 = Rp 20,000\n",
      "\n",
      "Total harga yang harus dibayarkan = Rp 45,000\n",
      "Transaksi Anda berhasil. \n",
      "Kembalian Anda = Rp 55,000. Terima Kasih!\n",
      "\n",
      "Sisa stock buah hari ini :\n",
      "Jeruk = 99\n",
      "Apel = 99\n",
      "Anggur = 99\n",
      "\n"
     ]
    }
   ],
   "source": [
    "#definisi stock\n",
    "stock = {'Apel': 100,\n",
    "         'Jeruk': 100,\n",
    "         'Anggur': 100}\n",
    "\n",
    "#definisi harga\n",
    "price = {'Apel': 10000,\n",
    "         'Jeruk': 15000,\n",
    "         'Anggur': 20000}\n",
    "\n",
    "print(f\"\"\"SELAMAT DATANG DI TOKO BUAH\n",
    "Stok buah hari ini :\n",
    "Apel = {stock['Apel']}\n",
    "Jeruk = {stock['Jeruk']}\n",
    "Anggur = {stock['Anggur']}\"\"\")\n",
    "\n",
    "while True:\n",
    "    jeruk = input(\"Masukkan jumlah Jeruk yang ingin dibeli = \")\n",
    "    if jeruk.isdigit():\n",
    "        jeruk = int(jeruk)\n",
    "        if jeruk <= stock['Jeruk']:\n",
    "            print(f\"Jumlah Jeruk  : {jeruk}\")\n",
    "            break   \n",
    "        else:   \n",
    "            print(\"Stock tidak tidak tersedia\")\n",
    "            print(f\"\"\"Stok jeruk hari ini : {stock['Jeruk']}\"\"\")\n",
    "    else:\n",
    "        print(\"Masukan Anda tidak valid. Masukkan hanya dengan angka\")\n",
    "\n",
    "while True:\n",
    "    apel = input(\"Masukkan jumlah Apel yang ingin dibeli = \")\n",
    "    if apel.isdigit():\n",
    "        apel = int(apel)\n",
    "        if apel <= stock['Apel']:\n",
    "            print(f\"Jumlah Apel   : {apel}\")\n",
    "            break   \n",
    "        else:   \n",
    "            print(\"Stock tidak tidak tersedia\")\n",
    "            print(f\"\"\"Stok apel hari ini : {stock['Apel']}\"\"\")\n",
    "    else:\n",
    "        print(\"Masukan Anda tidak valid. Masukkan hanya dengan angka\")\n",
    "\n",
    "while True:    \n",
    "    anggur = input(\"Masukkan jumlah Anggur yang ingin dibeli = \")\n",
    "    if anggur.isdigit():\n",
    "        anggur = int(anggur)    \n",
    "        if anggur <= stock['Anggur']:\n",
    "            print(f\"Jumlah Anggur : {anggur}\")\n",
    "            break   \n",
    "        else:   \n",
    "            print(\"Stock tidak tidak tersedia\")\n",
    "            print(f\"\"\"Stok anggur hari ini : {stock['Anggur']}\"\"\")\n",
    "    else:\n",
    "        print(\"Masukan Anda tidak valid. Masukkan hanya dengan angka\")\n",
    "\n",
    "harga_jeruk = jeruk * price['Jeruk']\n",
    "print(f\"Harga jeruk  = {jeruk} x Rp 15,000  = Rp {harga_jeruk:,}\")\n",
    "harga_apel = apel * price['Apel']   \n",
    "print(f\"Harga apel   = {apel} x Rp 10,000 = Rp {harga_apel:,}\")\n",
    "harga_anggur = anggur * price['Anggur']\n",
    "print(f\"Harga anggur = {anggur} x Rp 2,0000 = Rp {harga_anggur:,}\")\n",
    "total_harga = harga_jeruk + harga_apel + harga_anggur\n",
    "print(f\"\\nTotal harga yang harus dibayarkan = Rp {total_harga:,}\")\n",
    "\n",
    "while True: \n",
    "    uang = input(\"Masukkan jumlah uang yang dibayarkan (hanya angka tanpa titik)= \")\n",
    "    if uang.isdigit():\n",
    "        uang = int(uang)\n",
    "        if uang > total_harga:\n",
    "            kembalian = uang - total_harga\n",
    "            print(f\"Transaksi Anda berhasil. \\nKembalian Anda = Rp {kembalian:,}. Terima Kasih!\")\n",
    "            break   \n",
    "        elif uang == total_harga:\n",
    "            print(\"Transaksi Anda berhasil. Terima kasih!\")\n",
    "            break\n",
    "        else:\n",
    "            print(\"Transaksi Anda gagal. Uang yang Anda masukkan tidak cukup\")  \n",
    "    else:\n",
    "        print(\"Masukan Anda tidak valid. Masukkan hanya dengan angka\")\n",
    "\n",
    "sisa_Jeruk = stock['Jeruk'] - jeruk\n",
    "sisa_Apel = stock['Apel'] - apel\n",
    "sisa_Anggur = stock['Anggur'] - anggur\n",
    "\n",
    "print(f\"\"\"\n",
    "Sisa stock buah hari ini :\n",
    "Jeruk = {sisa_Jeruk}\n",
    "Apel = {sisa_Apel}\n",
    "Anggur = {sisa_Anggur}\n",
    "\"\"\")"
   ]
  },
  {
   "cell_type": "code",
   "execution_count": 21,
   "metadata": {},
   "outputs": [
    {
     "name": "stdout",
     "output_type": "stream",
     "text": [
      "Password Anda: Zara123*$#. Valid\n"
     ]
    }
   ],
   "source": [
    "#memvalidasi password yang berisi huruf, angka dan simbol\n",
    "\n",
    "password = input(\"Buat password yang berisi huruf, angka dan simbol: \")\n",
    "if any(char.isalpha() for char in password) and any(char.isdigit() for char in password) and any(not char.isalnum() for char in password):\n",
    "    print(f\"Password Anda: {password}. Valid\")\n",
    "else:\n",
    "    print(\"Password tidak valid\")"
   ]
  },
  {
   "cell_type": "code",
   "execution_count": 3,
   "metadata": {},
   "outputs": [
    {
     "name": "stdout",
     "output_type": "stream",
     "text": [
      "Password Anda: 123. Valid\n"
     ]
    }
   ],
   "source": [
    "while True:\n",
    "    pass1 = input(\"Buat password yang berisi huruf dan angka: \")\n",
    "    if pass1.isalnum():\n",
    "        pass2 = input(\"Ulangi password: \")\n",
    "        if pass1 == pass2:\n",
    "            print(f\"Password Anda: {pass1}. Valid\")\n",
    "            break\n",
    "        else:\n",
    "            print(\"Password tidak sama. Coba lagi\")\n",
    "    else:\n",
    "        print(\"Password tidak valid\")"
   ]
  },
  {
   "cell_type": "code",
   "execution_count": null,
   "metadata": {},
   "outputs": [
    {
     "name": "stdout",
     "output_type": "stream",
     "text": [
      "Jenis tiket yang dipilih : \n",
      "Jawaban tidak valid. Coba lagi hanya dengan 'Reguler', 'VIP', atau 'VVIP'\n",
      "Jenis tiket yang dipilih : vip\n",
      "Masukan Anda tidak valid. Masukkan jenis tiket lagi\n",
      "Jenis tiket yang dipilih : \n",
      "Jawaban tidak valid. Coba lagi hanya dengan 'Reguler', 'VIP', atau 'VVIP'\n",
      "Jenis tiket yang dipilih : \n",
      "Jawaban tidak valid. Coba lagi hanya dengan 'Reguler', 'VIP', atau 'VVIP'\n",
      "Jenis tiket yang dipilih : \n",
      "Jawaban tidak valid. Coba lagi hanya dengan 'Reguler', 'VIP', atau 'VVIP'\n",
      "Jenis tiket yang dipilih : \n",
      "Jawaban tidak valid. Coba lagi hanya dengan 'Reguler', 'VIP', atau 'VVIP'\n",
      "Jenis tiket yang dipilih : \n",
      "Jawaban tidak valid. Coba lagi hanya dengan 'Reguler', 'VIP', atau 'VVIP'\n",
      "Jenis tiket yang dipilih : \n",
      "Jawaban tidak valid. Coba lagi hanya dengan 'Reguler', 'VIP', atau 'VVIP'\n",
      "Jenis tiket yang dipilih : \n",
      "Jawaban tidak valid. Coba lagi hanya dengan 'Reguler', 'VIP', atau 'VVIP'\n",
      "Jenis tiket yang dipilih : \n",
      "Jawaban tidak valid. Coba lagi hanya dengan 'Reguler', 'VIP', atau 'VVIP'\n",
      "Jenis tiket yang dipilih : vip\n",
      "Masukan Anda tidak valid. Masukkan jenis tiket lagi\n",
      "Jenis tiket yang dipilih : 1\n",
      "Jawaban tidak valid. Coba lagi hanya dengan 'Reguler', 'VIP', atau 'VVIP'\n",
      "Jenis tiket yang dipilih : vip\n",
      "Masukan Anda tidak valid. Masukkan jenis tiket lagi\n"
     ]
    }
   ],
   "source": [
    "#SOAL NOMOR 4\n",
    "\n",
    "harga = {'reguler': 50000,\n",
    "         'vip' : 100000,\n",
    "         'vvip' : 150000}\n",
    "\n",
    "while True:\n",
    "    try:\n",
    "        tiket = input(\"Masukkan jenis tiket (Reguler, VIP, VVIP): \").lower()\n",
    "        print(f\"Jenis tiket yang dipilih : {tiket}\")\n",
    "        if tiket.isalpha():\n",
    "            if tiket in harga:\n",
    "                jumlah = int(input(\"Masukkan jumlah tiket yang akan dibeli : \"))\n",
    "                print(f\"Jumlah tiket = {jumlah}\")\n",
    "                member = input(\"Apakah Anda member? (Ya/Tidak): \").lower()\n",
    "                if member == 'ya':\n",
    "                    print(\"Anda adalah Member, dapat diskon 10%\")\n",
    "                    print(f\"Harga tiket {tiket} = Rp {(harga[tiket] * 0.9) * jumlah}\")\n",
    "                    break\n",
    "                elif member == 'tidak':\n",
    "                    print(\"Anda bukan member\")\n",
    "                    print(f\"Harga tiket {tiket} = Rp {harga[tiket] * jumlah}\")\n",
    "                    break\n",
    "                else:\n",
    "                    print(\"Jawaban tidak valid. Coba lagi hanya dengan 'Ya' atau 'Tidak'\")\n",
    "            else:\n",
    "                print(\"Jenis tiket tidak valid. Coba lagi\")\n",
    "        else:\n",
    "            print(\"Jawaban tidak valid. Coba lagi hanya dengan 'Reguler', 'VIP', atau 'VVIP'\")\n",
    "    except ValueError: \n",
    "        print(\"Masukan Anda tidak valid. Masukkan jenis tiket lagi\")\n"
   ]
  },
  {
   "cell_type": "code",
   "execution_count": null,
   "metadata": {},
   "outputs": [],
   "source": []
  }
 ],
 "metadata": {
  "kernelspec": {
   "display_name": "Python 3",
   "language": "python",
   "name": "python3"
  },
  "language_info": {
   "codemirror_mode": {
    "name": "ipython",
    "version": 3
   },
   "file_extension": ".py",
   "mimetype": "text/x-python",
   "name": "python",
   "nbconvert_exporter": "python",
   "pygments_lexer": "ipython3",
   "version": "3.13.1"
  }
 },
 "nbformat": 4,
 "nbformat_minor": 2
}
