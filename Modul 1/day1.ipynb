{
 "cells": [
  {
   "cell_type": "code",
   "execution_count": 10,
   "metadata": {},
   "outputs": [
    {
     "name": "stdout",
     "output_type": "stream",
     "text": [
      "Halo Abdillah Zaraaifa Al Farisa! Ini adalah kode Anda 'isaAb'\n"
     ]
    }
   ],
   "source": [
    "#SOAL NOMOR 1\n",
    "nama = input(\"Masukkan nama Anda = \")\n",
    "kode_A = nama[-3:]\n",
    "kode_B = nama[0:2]\n",
    "print(f\"Halo {nama}! Ini adalah kode Anda '{kode_A+kode_B}'\")"
   ]
  },
  {
   "cell_type": "code",
   "execution_count": 11,
   "metadata": {},
   "outputs": [
    {
     "name": "stdout",
     "output_type": "stream",
     "text": [
      "Panjang huruf dari bulan lahir anda adalah '3'\n"
     ]
    }
   ],
   "source": [
    "#SOAL NOMOR 2\n",
    "bulan = input(f\"Masukkan bulan lahir Anda =\")\n",
    "jmlh = len(bulan)\n",
    "print(f\"Panjang huruf dari bulan lahir anda adalah '{jmlh}'\")"
   ]
  },
  {
   "cell_type": "code",
   "execution_count": 12,
   "metadata": {},
   "outputs": [
    {
     "name": "stdout",
     "output_type": "stream",
     "text": [
      "Panjang huruf kata kedua Anda adalah '8'\n"
     ]
    }
   ],
   "source": [
    "#SOAL 3\n",
    "nama = input(\"Masukkan nama panjang Anda = \")\n",
    "kata = nama.split()[1]\n",
    "nama_kedua = len(kata)\n",
    "print(f\"Panjang huruf kata kedua Anda adalah '{nama_kedua}'\")"
   ]
  },
  {
   "cell_type": "code",
   "execution_count": 1,
   "metadata": {},
   "outputs": [
    {
     "name": "stdout",
     "output_type": "stream",
     "text": [
      "Kota asal sebelah Anda adalah 'nganjuk' dengan kode kotanya adalah 'NGA'\n"
     ]
    }
   ],
   "source": [
    "#SOAL NOMOR 4\n",
    "kota = input(\"Masukkan kota asal Anda = \")\n",
    "sebelah = input(\"Masukkan kota asal sebelah Anda = \")\n",
    "lain = input(\"Masukkan kota asal lain lagi = \")\n",
    "kode_kota = sebelah[0:3].upper()\n",
    "print(f\"Kota asal sebelah Anda adalah '{sebelah}' dengan kode kotanya adalah '{kode_kota}'\")"
   ]
  },
  {
   "cell_type": "code",
   "execution_count": 21,
   "metadata": {},
   "outputs": [
    {
     "name": "stdout",
     "output_type": "stream",
     "text": [
      "True\n"
     ]
    }
   ],
   "source": [
    "#SOAL NOMOR 5\n",
    "nama = input(\"Masukkan nama Anda = \")\n",
    "nama_sebelah = input(\"Masukkan nama sebelah Anda = \")\n",
    "nama_lain = input(\"Masukkan nama lain lagi = \")\n",
    "huruf = input(\"Masukkan satu huruf = \")\n",
    "kode = huruf in nama or kode in nama_sebelah or kode in nama_lain\n",
    "print(kode)"
   ]
  }
 ],
 "metadata": {
  "kernelspec": {
   "display_name": "Python 3",
   "language": "python",
   "name": "python3"
  },
  "language_info": {
   "codemirror_mode": {
    "name": "ipython",
    "version": 3
   },
   "file_extension": ".py",
   "mimetype": "text/x-python",
   "name": "python",
   "nbconvert_exporter": "python",
   "pygments_lexer": "ipython3",
   "version": "3.13.1"
  }
 },
 "nbformat": 4,
 "nbformat_minor": 2
}
