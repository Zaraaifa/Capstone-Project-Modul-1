{
 "cells": [
  {
   "cell_type": "code",
   "execution_count": 9,
   "metadata": {},
   "outputs": [
    {
     "name": "stdout",
     "output_type": "stream",
     "text": [
      "1, is not even\n",
      "3, is not even\n",
      "5, is not even\n",
      "7, is not even\n",
      "9, is not even\n"
     ]
    }
   ],
   "source": [
    "i = 0\n",
    "while i <= 10:\n",
    "    if i%2 !=0:\n",
    "        print(f'{i}, is not even')\n",
    "    i += 1"
   ]
  },
  {
   "cell_type": "code",
   "execution_count": 39,
   "metadata": {},
   "outputs": [
    {
     "name": "stdout",
     "output_type": "stream",
     "text": [
      "40\n"
     ]
    }
   ],
   "source": [
    "def my_func(a_list):\n",
    "    x,y,z = [1,2,3] #unpack list menjadi variabel x,y,z\n",
    "    x += 1 #x-nya ambil di atas udah 1, terus ditambah 1 lagi jadi 2, makanya diambil index ke 2\n",
    "    return a_list[x] + 10 #hasil index ke x + 10\n",
    "    print(\"Value inside the function:\", x) #sudah ada return di atas jadi tidak di print lagi karena return memberhentikan function\n",
    "\n",
    "a = my_func([10, 20, 30])\n",
    "print(a)"
   ]
  },
  {
   "cell_type": "code",
   "execution_count": 16,
   "metadata": {},
   "outputs": [
    {
     "name": "stdout",
     "output_type": "stream",
     "text": [
      "[2, 3, 4, 5]\n"
     ]
    }
   ],
   "source": [
    "list_angka = [1,2,3,4,5]\n",
    "list_angka.remove(1)\n",
    "print(list_angka)"
   ]
  },
  {
   "cell_type": "code",
   "execution_count": 18,
   "metadata": {},
   "outputs": [
    {
     "name": "stdout",
     "output_type": "stream",
     "text": [
      "{'a': 1, 'b': 2, 'c': 3, 'd': 4, 'e': 5}\n"
     ]
    }
   ],
   "source": [
    "#FOR COMPREHENSION\n",
    "\n",
    "list_angka = [1,2,3,4,5]\n",
    "list_huruf = ['a','b','c','d','e']\n",
    "\n",
    "dict = {angka: huruf for angka, huruf in zip(list_huruf, list_angka)}\n",
    "print(dict)\n"
   ]
  },
  {
   "cell_type": "code",
   "execution_count": 19,
   "metadata": {},
   "outputs": [
    {
     "data": {
      "text/plain": [
       "'lebih'"
      ]
     },
     "execution_count": 19,
     "metadata": {},
     "output_type": "execute_result"
    }
   ],
   "source": [
    "def tambah(angka):\n",
    "    if angka < 3:\n",
    "        return 'kurang'\n",
    "    else:\n",
    "        return 'lebih'\n",
    "    \n",
    "tambah(10)\n"
   ]
  },
  {
   "cell_type": "code",
   "execution_count": 23,
   "metadata": {},
   "outputs": [
    {
     "data": {
      "text/plain": [
       "'kurang'"
      ]
     },
     "execution_count": 23,
     "metadata": {},
     "output_type": "execute_result"
    }
   ],
   "source": [
    "#LAMBDA\n",
    "tambah = lambda angka: 'kurang' if angka < 3 else 'lebih'\n",
    "tambah(2)"
   ]
  },
  {
   "cell_type": "code",
   "execution_count": 31,
   "metadata": {},
   "outputs": [
    {
     "name": "stdout",
     "output_type": "stream",
     "text": [
      "[0]\n",
      "[0, 1, 2, 3]\n"
     ]
    }
   ],
   "source": [
    "#FOR COMPREHENSION\n",
    "# template = [hasil for item in iterasion]  \n",
    "\n",
    "a = ['a','b','c']\n",
    "list1 = [i for i in range(len(a)+1) if i < 1]\n",
    "list2 = [i for i in range(len(a)+1) if i < 4]\n",
    "#i untuk i dalam range (jumlah data di list a)\n",
    "\n",
    "print(list1)\n",
    "print(list2)"
   ]
  },
  {
   "cell_type": "code",
   "execution_count": 32,
   "metadata": {},
   "outputs": [
    {
     "name": "stdout",
     "output_type": "stream",
     "text": [
      "1, is not even\n",
      "3, is not even\n",
      "5, is not even\n",
      "7, is not even\n",
      "9, is not even\n"
     ]
    }
   ],
   "source": [
    "i = 0\n",
    "\n",
    "while i <=10:\n",
    "    if i%2 !=0:\n",
    "        print(f'{i}, is not even')\n",
    "    i += 1"
   ]
  },
  {
   "cell_type": "code",
   "execution_count": 35,
   "metadata": {},
   "outputs": [
    {
     "name": "stdout",
     "output_type": "stream",
     "text": [
      "Apple is Red\n",
      "Banana is Big\n",
      "Cherry is Tasty\n"
     ]
    }
   ],
   "source": [
    "adj = ['red', 'big', 'tasty']\n",
    "fruits = ['apple', 'banana', 'cherry']\n",
    "\n",
    "for i in range(len(fruits)):\n",
    "    print(f\"{fruits[i].capitalize()} is {adj[i].capitalize()}\")"
   ]
  },
  {
   "cell_type": "code",
   "execution_count": 3,
   "metadata": {},
   "outputs": [
    {
     "data": {
      "text/plain": [
       "False"
      ]
     },
     "execution_count": 3,
     "metadata": {},
     "output_type": "execute_result"
    }
   ],
   "source": [
    "list_angka = [1,2,3,4,5,1,2,3]\n",
    "list_aja = ['1','2','3','4','5','1','2','3']\n",
    "list_angka == list_aja"
   ]
  },
  {
   "cell_type": "code",
   "execution_count": 7,
   "metadata": {},
   "outputs": [
    {
     "name": "stdout",
     "output_type": "stream",
     "text": [
      "[<generator object <genexpr> at 0x000001E6B70A4380>]\n"
     ]
    }
   ],
   "source": [
    "a = [1,2,3,4,5]\n",
    "b = [6,7,8,9,10]\n",
    "\n",
    "result = [(a*b for a, b in zip(a,b[::-1]))]\n",
    "print(result)"
   ]
  },
  {
   "cell_type": "code",
   "execution_count": 12,
   "metadata": {},
   "outputs": [
    {
     "name": "stdout",
     "output_type": "stream",
     "text": [
      "10\n"
     ]
    }
   ],
   "source": [
    "x = 5\n",
    "def my_func():\n",
    "    x = 10\n",
    "    return x\n",
    "    \n",
    "my_func()\n",
    "print(my_func())"
   ]
  },
  {
   "cell_type": "code",
   "execution_count": 18,
   "metadata": {},
   "outputs": [
    {
     "name": "stdout",
     "output_type": "stream",
     "text": [
      "25\n"
     ]
    }
   ],
   "source": [
    "y = 20\n",
    "\n",
    "def modify_y():\n",
    "    global y\n",
    "    y += 5\n",
    "    return y\n",
    "\n",
    "print(modify_y())"
   ]
  },
  {
   "cell_type": "code",
   "execution_count": 25,
   "metadata": {},
   "outputs": [
    {
     "name": "stdout",
     "output_type": "stream",
     "text": [
      "[40, 50, 60]\n"
     ]
    }
   ],
   "source": [
    "a = [10,20,30]\n",
    "\n",
    "def replace_list(a):\n",
    "    a = [40,50,60]\n",
    "    return a\n",
    "\n",
    "y = replace_list(a)\n",
    "print(y)"
   ]
  },
  {
   "cell_type": "code",
   "execution_count": 36,
   "metadata": {},
   "outputs": [
    {
     "name": "stdout",
     "output_type": "stream",
     "text": [
      "[1, 2, [3, 4]]\n",
      "[1, 2, [100, 4]]\n",
      "======================\n",
      "[1, 2, [30, 4]]\n",
      "[1, 2, [30, 4]]\n"
     ]
    }
   ],
   "source": [
    "from copy import deepcopy\n",
    "\n",
    "x = [1,2,[3,4]]\n",
    "y = deepcopy(x)\n",
    "y[2][0] = 100\n",
    "print(x)\n",
    "print(y)\n",
    "\n",
    "print(\"======================\")\n",
    "\n",
    "l = x.copy()\n",
    "l[2][0] = 30\n",
    "print(x)\n",
    "print(l)"
   ]
  },
  {
   "cell_type": "code",
   "execution_count": 37,
   "metadata": {},
   "outputs": [
    {
     "ename": "AttributeError",
     "evalue": "type object 'list' has no attribute 'isin'",
     "output_type": "error",
     "traceback": [
      "\u001b[1;31m---------------------------------------------------------------------------\u001b[0m",
      "\u001b[1;31mAttributeError\u001b[0m                            Traceback (most recent call last)",
      "Cell \u001b[1;32mIn[37], line 3\u001b[0m\n\u001b[0;32m      1\u001b[0m list_angka \u001b[38;5;241m=\u001b[39m [\u001b[38;5;241m10\u001b[39m,\u001b[38;5;241m20\u001b[39m,\u001b[38;5;241m30\u001b[39m]\n\u001b[1;32m----> 3\u001b[0m \u001b[38;5;28;43mlist\u001b[39;49m\u001b[38;5;241;43m.\u001b[39;49m\u001b[43misin\u001b[49m(\u001b[38;5;241m30\u001b[39m)\n",
      "\u001b[1;31mAttributeError\u001b[0m: type object 'list' has no attribute 'isin'"
     ]
    }
   ],
   "source": [
    "list_angka = [10,20,30]\n",
    "\n",
    "list."
   ]
  },
  {
   "cell_type": "code",
   "execution_count": 45,
   "metadata": {},
   "outputs": [
    {
     "name": "stdout",
     "output_type": "stream",
     "text": [
      "zaraa\n",
      "cdudd\n"
     ]
    }
   ],
   "source": [
    "word = input(\"Masukkan kata/kalimat: \")\n",
    "print(word)\n",
    "\n",
    "def caesar_cipher(word):\n",
    "    abjad = 'abcdefghijklmnopqrstuvwxyzabcdefghijklmnopqrstuvwxyz'\n",
    "    words = word.lower()\n",
    "    encrypt = ''\n",
    "    for char in words:\n",
    "        if char != ' ':\n",
    "            index = abjad.index(char)\n",
    "            encrypt += abjad[index + 3]\n",
    "        else:\n",
    "            encrypt += ' '\n",
    "    return encrypt\n",
    "\n",
    "print(caesar_cipher(word))"
   ]
  },
  {
   "cell_type": "code",
   "execution_count": 18,
   "metadata": {},
   "outputs": [
    {
     "name": "stdout",
     "output_type": "stream",
     "text": [
      "[1, 2, 3, 4, 'zaraa']\n"
     ]
    }
   ],
   "source": [
    "list1 = [1,2,3,4,'zaraa', 'stev']\n",
    "list1.pop()\n",
    "\n",
    "print (list1)"
   ]
  },
  {
   "cell_type": "code",
   "execution_count": 20,
   "metadata": {},
   "outputs": [
    {
     "data": {
      "text/plain": [
       "0"
      ]
     },
     "execution_count": 20,
     "metadata": {},
     "output_type": "execute_result"
    }
   ],
   "source": []
  },
  {
   "cell_type": "code",
   "execution_count": 2,
   "metadata": {},
   "outputs": [
    {
     "name": "stdout",
     "output_type": "stream",
     "text": [
      "apapun 50\n",
      "hehe 24\n"
     ]
    }
   ],
   "source": [
    "z = 50\n",
    "\n",
    "def my_func():\n",
    "    global w \n",
    "    w = 24\n",
    "    print('apapun', z)\n",
    "\n",
    "my_func()\n",
    "print('hehe', w)\n",
    "w = 35"
   ]
  },
  {
   "cell_type": "code",
   "execution_count": 1,
   "metadata": {},
   "outputs": [
    {
     "ename": "NameError",
     "evalue": "name 'w' is not defined",
     "output_type": "error",
     "traceback": [
      "\u001b[1;31m---------------------------------------------------------------------------\u001b[0m",
      "\u001b[1;31mNameError\u001b[0m                                 Traceback (most recent call last)",
      "Cell \u001b[1;32mIn[1], line 5\u001b[0m\n\u001b[0;32m      2\u001b[0m     \u001b[38;5;28;01mglobal\u001b[39;00m w\n\u001b[0;32m      3\u001b[0m     \u001b[38;5;28mprint\u001b[39m(w)\n\u001b[1;32m----> 5\u001b[0m \u001b[38;5;28mprint\u001b[39m(\u001b[43mmy_func\u001b[49m\u001b[43m(\u001b[49m\u001b[43m)\u001b[49m)\n",
      "Cell \u001b[1;32mIn[1], line 3\u001b[0m, in \u001b[0;36mmy_func\u001b[1;34m()\u001b[0m\n\u001b[0;32m      1\u001b[0m \u001b[38;5;28;01mdef\u001b[39;00m\u001b[38;5;250m \u001b[39m\u001b[38;5;21mmy_func\u001b[39m():\n\u001b[0;32m      2\u001b[0m     \u001b[38;5;28;01mglobal\u001b[39;00m w\n\u001b[1;32m----> 3\u001b[0m     \u001b[38;5;28mprint\u001b[39m(\u001b[43mw\u001b[49m)\n",
      "\u001b[1;31mNameError\u001b[0m: name 'w' is not defined"
     ]
    }
   ],
   "source": [
    "def my_func():\n",
    "    global w\n",
    "    print(w)\n",
    "\n",
    "print(my_func())"
   ]
  },
  {
   "cell_type": "code",
   "execution_count": null,
   "metadata": {},
   "outputs": [],
   "source": []
  }
 ],
 "metadata": {
  "kernelspec": {
   "display_name": "Python 3",
   "language": "python",
   "name": "python3"
  },
  "language_info": {
   "codemirror_mode": {
    "name": "ipython",
    "version": 3
   },
   "file_extension": ".py",
   "mimetype": "text/x-python",
   "name": "python",
   "nbconvert_exporter": "python",
   "pygments_lexer": "ipython3",
   "version": "3.13.1"
  }
 },
 "nbformat": 4,
 "nbformat_minor": 2
}
