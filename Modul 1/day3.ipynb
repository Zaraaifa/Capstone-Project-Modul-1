{
 "cells": [
  {
   "cell_type": "markdown",
   "metadata": {},
   "source": [
    "##Data Collection"
   ]
  },
  {
   "cell_type": "code",
   "execution_count": 3,
   "metadata": {},
   "outputs": [
    {
     "name": "stdout",
     "output_type": "stream",
     "text": [
      "masukkan nama = zizi\n"
     ]
    }
   ],
   "source": [
    "prompt = 'masukkan nama = '\n",
    "nama = input(prompt)\n",
    "print(f'{prompt}{nama}')"
   ]
  },
  {
   "cell_type": "code",
   "execution_count": 14,
   "metadata": {},
   "outputs": [
    {
     "name": "stdout",
     "output_type": "stream",
     "text": [
      "[True, False]\n"
     ]
    }
   ],
   "source": [
    "#LIST\n",
    "#Isi list bisa berupa apa saja\n",
    "listContoh = ['Hai', 'Selamat', 'Pagi', 1, 2, 3, 4, 5, True, False]\n",
    "print(listContoh[-2:])\n",
    "\n",
    "#variabel ketika di split hasilnya auto jadi list"
   ]
  },
  {
   "cell_type": "code",
   "execution_count": 16,
   "metadata": {},
   "outputs": [
    {
     "name": "stdout",
     "output_type": "stream",
     "text": [
      "('Hai', 'Selamat', 'Pagi', 1, 2, 3, 4, 5, True, False)\n"
     ]
    }
   ],
   "source": [
    "#TUPLE\n",
    "#Isi tuple bisa berupa apa saja\n",
    "tupleContoh = ('Hai', 'Selamat', 'Pagi', 1, 2, 3, 4, 5, True, False)\n",
    "print(tupleContoh)"
   ]
  },
  {
   "cell_type": "code",
   "execution_count": null,
   "metadata": {},
   "outputs": [
    {
     "name": "stdout",
     "output_type": "stream",
     "text": [
      "{False, 1, 2, 'Pagi', 3, 4, 5, 'Selamat', 'Hai'}\n"
     ]
    }
   ],
   "source": [
    "#SET\n",
    "#hanya disimpan sebagai kumpulan data tapi urutannya berubah karena yang  di print hanya yg unique values\n",
    "setContoh = {'Hai', 'Selamat', 'Pagi', 1, 2, 3, 4, 5, True, False}\n",
    "print(setContoh)"
   ]
  },
  {
   "cell_type": "code",
   "execution_count": 20,
   "metadata": {},
   "outputs": [
    {
     "name": "stdout",
     "output_type": "stream",
     "text": [
      "1\n"
     ]
    }
   ],
   "source": [
    "#DICTIONARY\n",
    "#Isi dictionary bisa berupa apa saja\n",
    "dictContoh = {'Hai': 'Selamat', 'Pagi': 1, 'Siang': 2, 'Sore': 3, 'Malam': 4}\n",
    "print(dictContoh['Pagi'])"
   ]
  },
  {
   "cell_type": "code",
   "execution_count": 38,
   "metadata": {},
   "outputs": [
    {
     "name": "stdout",
     "output_type": "stream",
     "text": [
      "['zaraa', 30, 11, 'Indonesia', ['Kediri', 'Jawa Timur']]\n"
     ]
    }
   ],
   "source": [
    "#APPEND DALAM LIST \n",
    "#untuk menambahkan values di akhir list, maksimal 1 values\n",
    "list_contoh = ['zaraa', 30, 11, 'Indonesia']\n",
    "list_contoh.append(['Kediri', 'Jawa Timur'])\n",
    "print(list_contoh)"
   ]
  },
  {
   "cell_type": "code",
   "execution_count": 5,
   "metadata": {},
   "outputs": [
    {
     "name": "stdout",
     "output_type": "stream",
     "text": [
      "['Nasi Goreng', 'Soto Ayam', 'Mie Goreng', 'Ayam Bakar']\n",
      "Makanan soto ayam sudah datang!\n",
      "Sisa menu yang tersedia = ['Nasi Goreng', 'Mie Goreng', 'Ayam Bakar']\n"
     ]
    }
   ],
   "source": [
    "menu = ['Nasi Goreng', 'Soto Ayam', 'Mie Goreng', 'Ayam Bakar']\n",
    "print(menu)\n",
    "pilih = (input('Masukkan menu yang ingin Anda beli = '))\n",
    "print(f\"Makanan {pilih.lower()} sudah datang!\")\n",
    "\n",
    "if pilih in menu:\n",
    "    menu.remove(pilih)\n",
    "    print(f\"Sisa menu yang tersedia = {menu}\")\n",
    "else:\n",
    "    print('Menu yang Anda pilihtidak tersedia')"
   ]
  },
  {
   "cell_type": "code",
   "execution_count": 6,
   "metadata": {},
   "outputs": [
    {
     "name": "stdout",
     "output_type": "stream",
     "text": [
      "['bahasa', 'ipa', 'ips', 'tik']\n",
      "Buku tik berhasil dikembalikan\n",
      "Sisa buku yang dipinjam: ['bahasa', 'ipa', 'ips']\n"
     ]
    }
   ],
   "source": [
    "##SOAL NOMOR 1\n",
    "list_judul = []\n",
    "judul1 = input('Masukkan judul buku yang ingin dipinjam = ')\n",
    "list_judul.append(judul1)\n",
    "\n",
    "judul2 = input('Masukkan judul buku yang ingin dipinjam = ')\n",
    "list_judul.append(judul2)\n",
    "\n",
    "judul3 = input('Masukkan judul buku yang ingin dipinjam = ')\n",
    "list_judul.append(judul3)\n",
    "\n",
    "judul4 = input('Masukkan judul buku yang ingin dipinjam = ')\n",
    "list_judul.append(judul4)\n",
    "\n",
    "\n",
    "list_judul.sort()\n",
    "print(list_judul)\n",
    "\n",
    "buku_balik = input('Apakah ingin mengembalikan buku? klik Enter untuk konfirmasi')\n",
    "if buku_balik == '':\n",
    "    kembali = input('Masukkan judul buku yang ingin dikembalikan = ')\n",
    "    print(f'Buku {kembali} berhasil dikembalikan')\n",
    "else:\n",
    "    print('Tidak ada buku yang dikembalikan')\n",
    "sisa = list_judul.remove(kembali)\n",
    "print(f\"Sisa buku yang dipinjam: {list_judul}\")"
   ]
  },
  {
   "cell_type": "code",
   "execution_count": null,
   "metadata": {},
   "outputs": [
    {
     "name": "stdout",
     "output_type": "stream",
     "text": [
      "[55, 80, 88, 100]\n",
      "Nilai terbesar Anda: 100 dan Nilai terkecil Anda: 55 dengan Rata-Rata nilai Anda = 80.75\n"
     ]
    }
   ],
   "source": [
    "##SOAL NOMOR 2\n",
    "nilai = []\n",
    "nilai1 = int(input(\"Masukkan nilai Anda = \"))\n",
    "nilai.append(nilai1)\n",
    "nilai2 = int(input(\"Masukkan nilai Anda = \"))\n",
    "nilai.append(nilai2)\n",
    "nilai3 = int(input(\"Masukkan nilai Anda = \"))\n",
    "nilai.append(nilai3)\n",
    "nilai4 = int(input(\"Masukkan nilai Anda = \"))\n",
    "nilai.append(nilai4)\n",
    "nilai.sort()\n",
    "print(nilai)\n",
    "\n",
    "nilai_max = max(nilai)\n",
    "nilai_min = min(nilai)\n",
    "rerata = sum(nilai) / len(nilai)\n",
    "print(f\"Nilai terbesar Anda: {nilai_max} dan Nilai terkecil Anda: {nilai_min} dengan Rata-Rata nilai Anda = {rerata}\")"
   ]
  },
  {
   "cell_type": "code",
   "execution_count": 10,
   "metadata": {},
   "outputs": [
    {
     "name": "stdout",
     "output_type": "stream",
     "text": [
      "Menu yang tersedia hari ini ['Nasi Goreng', 'Soto Ayam', 'Mie Goreng', 'Ayam Bakar']\n",
      "Pesanan '' Anda sudah datang! Selamat Menikmati\n",
      "Menu yang Anda pilih tidak tersedia\n"
     ]
    }
   ],
   "source": [
    "##SOAL NOMOR 3\n",
    "menu = ['Nasi Goreng', 'Soto Ayam', 'Mie Goreng', 'Ayam Bakar']\n",
    "print(f'Menu yang tersedia hari ini {menu}')\n",
    "pilih = (input('Masukkan menu yang ingin Anda beli = '))\n",
    "print(f\"Pesanan '{pilih}' Anda sudah datang! Selamat Menikmati\")\n",
    "\n",
    "if pilih in menu:\n",
    "    menu.remove(pilih)\n",
    "    print(f\"Sisa menu yang tersedia = {menu}\")\n",
    "else:\n",
    "    print('Menu yang Anda pilih tidak tersedia')\n"
   ]
  },
  {
   "cell_type": "code",
   "execution_count": 13,
   "metadata": {},
   "outputs": [
    {
     "name": "stdout",
     "output_type": "stream",
     "text": [
      "{'Baju': 88, 'Makanan': 17, 'Minuman': 31}\n",
      "Rata-rata stok baju, makanan dan minuman Anda adalah 45\n"
     ]
    }
   ],
   "source": [
    "##SOAL NOMOR 4\n",
    "stok = int(input('Masukkan jumlah stok baju Anda = '))\n",
    "makanan = int(input('Masukkan jumlah stok makanan Anda = '))\n",
    "minuman = int(input('Masukkan jumlah stok minuman Anda = '))\n",
    "dict1 = {'Baju': stok, 'Makanan': makanan, 'Minuman': minuman}\n",
    "print(dict1)\n",
    "\n",
    "rerata = (sum(dict1.values()) // len(dict1))\n",
    "print(f\"Rata-rata stok baju, makanan dan minuman Anda adalah {rerata}\")"
   ]
  },
  {
   "cell_type": "code",
   "execution_count": 43,
   "metadata": {},
   "outputs": [
    {
     "name": "stdout",
     "output_type": "stream",
     "text": [
      "['za', 'zi', 'zu']\n",
      "['41', '42', '43']\n",
      "{'za': '41', 'zi': '42', 'zu': '43'}\n",
      "Untuk teman Anda yang bernama zi memiliki ukuran sepatu 42 Tersedia\n"
     ]
    }
   ],
   "source": [
    "##SOAL NOMOR 5\n",
    "sepatu = ['42','43','44','45']\n",
    "nama = (input(\"Masukkan 3 nama teman Anda dengan format nama1, nama2, nama3 = \"))\n",
    "ukuran = (input(\"Masukkan ukuran sepatu 3 teman Anda dengan format 42, 43, 44 = \"))\n",
    "\n",
    "pecah_nama = nama.split(sep = ', ')\n",
    "print(pecah_nama)\n",
    "pecah_ukuran = ukuran.split(sep = ', ')\n",
    "print(pecah_ukuran)\n",
    "\n",
    "dict1 = {pecah_nama[0]: pecah_ukuran[0], pecah_nama[1]: pecah_ukuran[1], pecah_nama[2]: pecah_ukuran[2]}\n",
    "print(dict1)\n",
    "\n",
    "pilihan = (input(\"Cek ketersediaan sepatu dengan memilih salah satu nama teman Anda = \"))\n",
    "if pilihan in dict1 and dict1[pilihan] in sepatu:\n",
    "    print(f'Untuk teman Anda yang bernama {pilihan} memiliki ukuran sepatu {dict1[pilihan]} Tersedia')\n",
    "else:\n",
    "    print(f\"Untuk teman Anda yang bernama {pilihan}, ukuran sepatu tidak tersedia\")"
   ]
  },
  {
   "cell_type": "code",
   "execution_count": 10,
   "metadata": {},
   "outputs": [
    {
     "name": "stdout",
     "output_type": "stream",
     "text": [
      "Selamat, Anda layak untuk dipromosikan tetapi tidak diusulkan\n"
     ]
    }
   ],
   "source": [
    "##SOAL NOMOR 6\n",
    "karyawan = ['Andi', 'Budi', 'Citra']\n",
    "nama = input(\"Masukkan nama karyawan = \")\n",
    "pengalaman = int(input(\"Masukkan jumlah pengalaman kerja (dalam tahun) = \"))\n",
    "proyek = int(input(\"Masukkan jumlah proyek yang diselesaikan = \"))\n",
    "catatan = input(\"Apakah Anda memiliki catatan disiplin buruk? (ya/tidak)\")\n",
    "\n",
    "if pengalaman > 5 and proyek >= 10 and catatan == 'tidak' and nama in karyawan:\n",
    "    print(\"Selamat, Anda diusulkan untuk dipromosikan\")\n",
    "elif pengalaman > 5 and proyek >=10 and catatan == 'tidak' and nama not in karyawan:\n",
    "    print(\"Selamat, Anda layak untuk dipromosikan tetapi tidak diusulkan\")\n",
    "else: \n",
    "    print(\"Mohon maaf Anda tidak layak untuk dipromosikan\")"
   ]
  },
  {
   "cell_type": "code",
   "execution_count": 2,
   "metadata": {},
   "outputs": [
    {
     "name": "stdout",
     "output_type": "stream",
     "text": [
      "Jumlah Apel : 3\n",
      "Jumlah Jeruk : 3\n",
      "Jumlah Anggur : 3\n",
      "Harga = 3 x 10000 = 30000\n",
      "Harga = 3 x 15000 = 45000\n",
      "Harga = 3 x 20000 = 60000\n",
      "Total harga yang harus dibayarkan = 135000\n",
      "Transaksi Anda berhasil. \n",
      "Kembalian Anda = 5000\n"
     ]
    }
   ],
   "source": [
    "##SOAL NOMOR 7\n",
    "apel = int(input(\"Masukkan jumlah Apel yang ingin dibeli = \"))\n",
    "print(f\"Jumlah Apel : {apel}\")\n",
    "jeruk = int(input(\"Masukkan jumlah Jeruk yang ingin dibeli = \"))\n",
    "print(f\"Jumlah Jeruk : {jeruk}\")\n",
    "anggur = int(input(\"Masukkan jumlah Anggur yang ingin dibeli = \"))\n",
    "print(f\"Jumlah Anggur : {anggur}\")\n",
    "\n",
    "harga_apel = apel * 10000\n",
    "print(f\"Harga = {apel} x 10000 = {harga_apel}\")\n",
    "harga_jeruk = jeruk * 15000\n",
    "print(f\"Harga = {jeruk} x 15000 = {harga_jeruk}\")\n",
    "harga_anggur = anggur * 20000\n",
    "print(f\"Harga = {anggur} x 20000 = {harga_anggur}\")\n",
    "total_harga = harga_apel + harga_jeruk + harga_anggur\n",
    "print(f\"Total harga yang harus dibayarkan = {total_harga}\")\n",
    "\n",
    "uang = int(input(\"Masukkan jumlah uang yang dibayarkan = \"))\n",
    "if uang > total_harga:\n",
    "    kembalian = uang - total_harga\n",
    "    print(f\"Transaksi Anda berhasil. \\nKembalian Anda = Rp{kembalian}\")\n",
    "elif uang == total_harga:\n",
    "    print(\"Transaksi Anda berhasil\")\n",
    "else:\n",
    "    print(\"Transaksi Anda gagal. Uang yang Anda masukkan tidak cukup\")\n"
   ]
  },
  {
   "cell_type": "code",
   "execution_count": null,
   "metadata": {},
   "outputs": [],
   "source": []
  }
 ],
 "metadata": {
  "kernelspec": {
   "display_name": "Python 3",
   "language": "python",
   "name": "python3"
  },
  "language_info": {
   "codemirror_mode": {
    "name": "ipython",
    "version": 3
   },
   "file_extension": ".py",
   "mimetype": "text/x-python",
   "name": "python",
   "nbconvert_exporter": "python",
   "pygments_lexer": "ipython3",
   "version": "3.13.1"
  }
 },
 "nbformat": 4,
 "nbformat_minor": 2
}
