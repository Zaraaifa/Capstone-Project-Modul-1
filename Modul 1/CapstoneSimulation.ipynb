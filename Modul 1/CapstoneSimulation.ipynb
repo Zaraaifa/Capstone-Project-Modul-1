{
 "cells": [
  {
   "cell_type": "code",
   "execution_count": 1,
   "metadata": {},
   "outputs": [
    {
     "name": "stdout",
     "output_type": "stream",
     "text": [
      "\n",
      "Data dummy yang telah terkumpul saat ini:\n",
      "[{'Kode': 1, 'Nama': 'Zaraa', 'Umur': None, 'Kota': 'kediri'}]\n"
     ]
    }
   ],
   "source": [
    "dummy = []\n",
    "\n",
    "def input_kode():\n",
    "    return len(dummy)+1\n",
    "\n",
    "def input_alphabet(bebas, function):\n",
    "    text = input(f\"Masukkan {bebas} = \")\n",
    "    if function == 'isalpha':\n",
    "        text.isalpha()\n",
    "        return text\n",
    "    if function == 'isdigit':\n",
    "        text.isdigit()\n",
    "    else:\n",
    "        print(\"Inputan harus sesuai. Masukkan lagi\")\n",
    "\n",
    "def tambah_data():\n",
    "    while True:\n",
    "        akumulasi = {\n",
    "        'Kode' : input_kode(),\n",
    "        'Nama' : input_alphabet('nama', 'isalpha'),\n",
    "        'Umur' : input_alphabet('umur', 'isdigit'),\n",
    "        'Kota' : input_alphabet('kota', 'isalpha')\n",
    "        }\n",
    "        dummy.append(akumulasi)\n",
    "        lagi = input(\"Tambah data lagi? (y/n) = \")\n",
    "        if lagi.lower() != \"y\":\n",
    "            break\n",
    "\n",
    "tambah_data()\n",
    "print(\"\\nData dummy yang telah terkumpul saat ini:\")\n",
    "print(dummy)"
   ]
  },
  {
   "cell_type": "code",
   "execution_count": 1,
   "metadata": {},
   "outputs": [
    {
     "name": "stdout",
     "output_type": "stream",
     "text": [
      "Collecting tabulate\n",
      "  Downloading tabulate-0.9.0-py3-none-any.whl.metadata (34 kB)\n",
      "Downloading tabulate-0.9.0-py3-none-any.whl (35 kB)\n",
      "Installing collected packages: tabulate\n",
      "Successfully installed tabulate-0.9.0\n"
     ]
    },
    {
     "name": "stderr",
     "output_type": "stream",
     "text": [
      "\n",
      "[notice] A new release of pip is available: 24.3.1 -> 25.0\n",
      "[notice] To update, run: python.exe -m pip install --upgrade pip\n"
     ]
    }
   ],
   "source": [
    "!pip install tabulate"
   ]
  },
  {
   "cell_type": "code",
   "execution_count": 2,
   "metadata": {},
   "outputs": [],
   "source": [
    "from tabulate import tabulate"
   ]
  },
  {
   "cell_type": "code",
   "execution_count": 2,
   "metadata": {},
   "outputs": [
    {
     "name": "stdout",
     "output_type": "stream",
     "text": [
      "\n",
      "Data yang telah terkumpul saat ini:\n",
      "╒════════╤════════╤════════╤════════╕\n",
      "│   Kode │ Nama   │   Umur │ Kota   │\n",
      "╞════════╪════════╪════════╪════════╡\n",
      "│      1 │ zaraa  │     22 │ kdr    │\n",
      "├────────┼────────┼────────┼────────┤\n",
      "│      2 │ zizi   │     22 │ kr     │\n",
      "╘════════╧════════╧════════╧════════╛\n"
     ]
    }
   ],
   "source": [
    "from tabulate import tabulate\n",
    "dummy = []\n",
    "\n",
    "def input_kode():\n",
    "    return len(dummy)+1\n",
    "\n",
    "def input_alphabet(bebas, function):\n",
    "    text = input(f\"Masukkan {bebas} = \")\n",
    "    if function == 'isalpha' and text.isalpha():\n",
    "        return text\n",
    "    if function == 'isdigit' and text.isdigit():\n",
    "        return text\n",
    "    else:\n",
    "        print(f\"Inputan untuk {bebas} harus sesuai {function}. Masukkan lagi\")\n",
    "\n",
    "def tambah_data():\n",
    "    while True:\n",
    "        akumulasi = {\n",
    "        'Kode' : input_kode(),\n",
    "        'Nama' : input_alphabet('nama', 'isalpha'),\n",
    "        'Umur' : input_alphabet('umur', 'isdigit'),\n",
    "        'Kota' : input_alphabet('kota', 'isalpha')\n",
    "        }\n",
    "        dummy.append(akumulasi)\n",
    "        lagi = input(\"Tambah data lagi? (y/n) = \")\n",
    "        if lagi.lower() != \"y\":\n",
    "            break\n",
    "\n",
    "tambah_data()\n",
    "print(\"\\nData yang telah terkumpul saat ini:\")\n",
    "\n",
    "print(tabulate(dummy, headers='keys', tablefmt='fancy_grid'))"
   ]
  },
  {
   "cell_type": "markdown",
   "metadata": {},
   "source": [
    "tolong buatkan logic program untuk program pembelian kayu jati dengan beberapa kelas kualitas, dimana didalam program ada menu untuk memilih barang, tampilkan daftar belanja, update keranjang, finish ke pembelian, dan keluar program. Untuk menjalankan program gunakan syarat login. Untuk pembacaan data tambahkan opsi sebagai admin atau sebagai customer, jika admin dapat melihat hingga ke kode barang, jika customer hanya nama items, jumlah, harga dan total. Untuk pembelian ada fitur berapa total, berapa uang dan berapa kembaliannya input = username, password, nama items, jumlah, uang."
   ]
  },
  {
   "cell_type": "code",
   "execution_count": null,
   "metadata": {},
   "outputs": [],
   "source": []
  }
 ],
 "metadata": {
  "kernelspec": {
   "display_name": "Python 3",
   "language": "python",
   "name": "python3"
  },
  "language_info": {
   "codemirror_mode": {
    "name": "ipython",
    "version": 3
   },
   "file_extension": ".py",
   "mimetype": "text/x-python",
   "name": "python",
   "nbconvert_exporter": "python",
   "pygments_lexer": "ipython3",
   "version": "3.13.1"
  }
 },
 "nbformat": 4,
 "nbformat_minor": 2
}
