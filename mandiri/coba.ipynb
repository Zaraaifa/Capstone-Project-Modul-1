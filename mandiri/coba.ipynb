{
 "cells": [
  {
   "cell_type": "code",
   "execution_count": 4,
   "metadata": {},
   "outputs": [
    {
     "name": "stdout",
     "output_type": "stream",
     "text": [
      "Not Weird\n"
     ]
    }
   ],
   "source": [
    "n = int(input().strip())\n",
    "if n%2 == 0:\n",
    "    if 2 <= n <= 5:\n",
    "        print(\"Not Weird\")\n",
    "    elif 6 <= n <= 20:\n",
    "        print(\"Weird\")\n",
    "    elif n > 20:\n",
    "        print(\"Not Weird\")\n",
    "else:\n",
    "    print(\"Weird\")"
   ]
  },
  {
   "cell_type": "code",
   "execution_count": 1,
   "metadata": {},
   "outputs": [
    {
     "name": "stdout",
     "output_type": "stream",
     "text": [
      "Judul buku : Pulang\n",
      "Nama penulis : Tere Liye\n",
      "\n",
      "Daftar buku Anda:\n",
      "1 | Pulang | Tere Liye\n",
      "Judul buku : Rentang Kisah\n",
      "Nama penulis : Gitasav\n",
      "\n",
      "Daftar buku Anda:\n",
      "1 | Pulang | Tere Liye\n",
      "2 | Rentang Kisah | Gitasav\n",
      "Judul buku : Milea\n",
      "Nama penulis : Pidi Baiq\n",
      "\n",
      "Daftar buku Anda:\n",
      "1 | Pulang | Tere Liye\n",
      "2 | Rentang Kisah | Gitasav\n",
      "3 | Milea | Pidi Baiq\n",
      "Penambahan Selesai\n"
     ]
    }
   ],
   "source": [
    "list_buku = []\n",
    "\n",
    "while True:\n",
    "    judul = input(\"Masukkan judul buku: \")\n",
    "    print(f\"Judul buku : {judul}\")\n",
    "    penulis = input(\"Masukkan nama penulis buku: \")\n",
    "    print(f\"Nama penulis : {penulis}\")\n",
    "\n",
    "    data_buku = [judul, penulis]\n",
    "    list_buku.append(data_buku)\n",
    "    \n",
    "    print(\"\\nDaftar buku Anda:\") \n",
    "    for index, buku in enumerate(list_buku):\n",
    "        print(f\"{index+1} | {buku[0]} | {buku[1]}\")\n",
    "\n",
    "    lagi = input(\"Apakah ingin menambahkan buku lagi? (ya/tidak) = \").lower()\n",
    "    if lagi == 'tidak':\n",
    "        break\n",
    "\n",
    "print(\"Penambahan Selesai\")"
   ]
  },
  {
   "cell_type": "code",
   "execution_count": 2,
   "metadata": {},
   "outputs": [
    {
     "name": "stdout",
     "output_type": "stream",
     "text": [
      "Panjang dictionary: 3\n"
     ]
    }
   ],
   "source": [
    "nama_dict = {\n",
    "    'zara' : 10,\n",
    "    'ziri' : 11,\n",
    "    'zoro' : 12\n",
    "}\n",
    "\n",
    "panjang = len(nama_dict)\n",
    "print(f\"Panjang dictionary: {panjang}\")"
   ]
  },
  {
   "cell_type": "code",
   "execution_count": 15,
   "metadata": {},
   "outputs": [
    {
     "name": "stdout",
     "output_type": "stream",
     "text": [
      "Pricelist TechStore\n",
      "Barang = laptop, harganya = Rp10,000,000\n",
      "Barang = tablet, harganya = Rp9,000,000\n",
      "Barang = komputer, harganya = Rp14,000,000\n",
      "Barang = smartphone, harganya = Rp7,000,000\n",
      "\n",
      "Pembelian Anda: \n",
      "Barang = laptop x 2, harganya = Rp20,000,000\n",
      "\n",
      "Keranjang Anda saat ini: \n",
      "Barang = laptop, jumlah = 2\n",
      "\n",
      "Pembelian Anda: \n",
      "Barang = tablet x 2, harganya = Rp18,000,000\n",
      "\n",
      "Keranjang Anda saat ini: \n",
      "Barang = tablet, jumlah = 2\n",
      "\n",
      "Pembelian Anda: \n",
      "Barang = komputer x 1, harganya = Rp14,000,000\n",
      "\n",
      "Keranjang Anda saat ini: \n",
      "Barang = komputer, jumlah = 1\n",
      "Total belanja Anda: Rp14,000,000\n"
     ]
    }
   ],
   "source": [
    "harga = {\n",
    "    'laptop': 10000000,\n",
    "    'tablet': 9000000,\n",
    "    'komputer': 14000000,\n",
    "    'smartphone' : 7000000\n",
    "}\n",
    "\n",
    "stock = {\n",
    "    'laptop': 100,\n",
    "    'tablet': 200,\n",
    "    'komputer': 50,\n",
    "    'smartphone' : 100,\n",
    "}\n",
    "\n",
    "print(\"Pricelist TechStore\")\n",
    "for key, value in harga.items():\n",
    "    print(f\"Barang = {key}, harganya = Rp{value:,}\")\n",
    "\n",
    "keranjang = {}\n",
    "\n",
    "while True:\n",
    "    try:\n",
    "        beli = input(\"Masukkan barang yang ingin Anda beli = \")\n",
    "        jumlah = int(input(\"Masukkan jumlah barang yang ingin dibeli = \"))\n",
    "        if beli in harga and jumlah <= int(stock[beli]):\n",
    "            print(\"\\nPembelian Anda: \")\n",
    "            print(f\"Barang = {beli} x {jumlah}, harganya = Rp{(harga[beli]*jumlah):,}\")\n",
    "        elif beli in harga and jumlah > int(stock[beli]):\n",
    "            print(f\"Stock barang {beli} tidak tersedia. saat ini hanya tersedia {stock[beli]} pcs\") \n",
    "        else:\n",
    "            print(\"Barang tidak tersedia. Coba lagi\")\n",
    "        \n",
    "        keranjang = {beli: jumlah}\n",
    "        for key, value in keranjang.items():\n",
    "             print(\"\\nKeranjang Anda saat ini: \")\n",
    "             print(f\"Barang = {key}, jumlah = {value}\")\n",
    "\n",
    "\n",
    "        lagi = input(\"Apakah ingin membeli barang lagi? (ya/tidak) = \").lower()\n",
    "        if lagi == 'tidak':\n",
    "            print(f\"Total belanja Anda: Rp{(harga[beli]*jumlah):,}\")\n",
    "            break\n",
    "    except ValueError:\n",
    "        print(\"masukan Anda tidak valid\")"
   ]
  },
  {
   "cell_type": "code",
   "execution_count": null,
   "metadata": {},
   "outputs": [],
   "source": []
  }
 ],
 "metadata": {
  "kernelspec": {
   "display_name": "Python 3",
   "language": "python",
   "name": "python3"
  },
  "language_info": {
   "codemirror_mode": {
    "name": "ipython",
    "version": 3
   },
   "file_extension": ".py",
   "mimetype": "text/x-python",
   "name": "python",
   "nbconvert_exporter": "python",
   "pygments_lexer": "ipython3",
   "version": "3.13.1"
  }
 },
 "nbformat": 4,
 "nbformat_minor": 2
}
