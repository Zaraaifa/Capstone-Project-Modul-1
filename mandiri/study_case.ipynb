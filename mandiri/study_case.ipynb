{
 "cells": [
  {
   "cell_type": "code",
   "execution_count": 14,
   "metadata": {},
   "outputs": [
    {
     "name": "stdout",
     "output_type": "stream",
     "text": [
      "=====================\n",
      "KALKULATOR SEDERHANA\n",
      "=====================\n",
      "100 % 2 = 0\n"
     ]
    }
   ],
   "source": [
    "print(\"=====================\")\n",
    "print(\"KALKULATOR SEDERHANA\")\n",
    "print(\"=====================\")\n",
    "\n",
    "angka1 = int(input(\"Masukkan angka = \"))\n",
    "operator = input(\"Masukkan operator (+, -, *, /, //, %) = \")\n",
    "angka2 = int(input(\"Masukkan angka = \"))\n",
    "\n",
    "if operator == \"+\":\n",
    "    hasil = angka1 + angka2\n",
    "    print(f\"{angka1} + {angka2} = {hasil}\")\n",
    "elif operator == \"-\":\n",
    "    hasil = angka1 - angka2\n",
    "    print(f\"{angka1} - {angka2} = {hasil}\")\n",
    "elif operator == \"*\":\n",
    "    hasil = angka1 * angka2\n",
    "    print(f\"{angka1} * {angka2} = {hasil}\")\n",
    "elif operator == \"/\":\n",
    "    hasil = angka1 / angka2\n",
    "    print(f\"{angka1} / {angka2} = {hasil}\")\n",
    "elif operator == \"//\":\n",
    "    hasil = angka1 // angka2\n",
    "    print(f\"{angka1} // {angka2} = {hasil}\")\n",
    "elif operator == \"%\":\n",
    "    hasil = angka1 % angka2\n",
    "    print(f\"{angka1} % {angka2} = {hasil}\")\n",
    "else:\n",
    "    print(\"Operator yang Anda masukkan tidak valid\")\n"
   ]
  },
  {
   "cell_type": "code",
   "execution_count": 17,
   "metadata": {},
   "outputs": [
    {
     "name": "stdout",
     "output_type": "stream",
     "text": [
      "Hari ini adalah hari 2025-01-26 16:24:21.426412\n",
      "Silakan masukkan tanggal lahir Anda\n",
      "Tanggal lahir Anda adalah 2002-05-30\n",
      "Umur Anda adalah 22 tahun 8 bulan\n"
     ]
    }
   ],
   "source": [
    "import datetime as dt\n",
    "\n",
    "now = dt.datetime.today()\n",
    "print(f\"Hari ini adalah hari {now}\")\n",
    "\n",
    "print(\"Silakan masukkan tanggal lahir Anda\")\n",
    "tanggal = int(input(\"Tanggal = \"))\n",
    "bulan = int(input(\"Bulan = \"))\n",
    "tahun = int(input(\"Tahun = \"))\n",
    "\n",
    "tanggal_lahir = dt.date(tahun, bulan, tanggal)\n",
    "print(f\"Tanggal lahir Anda adalah {tanggal_lahir}\")\n",
    "hari_ini = dt.date.today()\n",
    "umur_hari = hari_ini - tanggal_lahir\n",
    "umur_tahun = umur_hari.days // 365\n",
    "umur_bulan_sisa = (umur_hari.days % 365) // 30\n",
    "print(f\"Umur Anda adalah {umur_tahun} tahun {umur_bulan_sisa} bulan\")"
   ]
  },
  {
   "cell_type": "code",
   "execution_count": 25,
   "metadata": {},
   "outputs": [
    {
     "name": "stdout",
     "output_type": "stream",
     "text": [
      "Menghitung Luas Segitiga\n",
      "panjang sisi 1 = 6 cm\n",
      "panjang sisi 2 = 8 cm\n",
      "panjang sisi 3 = 10 cm\n",
      "Luas segitiga adalah 24 cm2\n"
     ]
    }
   ],
   "source": [
    "#Menghitung luas segi3\n",
    "\n",
    "print(\"Menghitung Luas Segitiga\")\n",
    "sisi1 = int(input(\"Masukkan panjang sisi 1 dalam cm = \"))\n",
    "print(f\"panjang sisi 1 = {sisi1} cm\")\n",
    "sisi2 = int(input(\"Masukkan panjang sisi 2 dalam cm = \"))\n",
    "print(f\"panjang sisi 2 = {sisi2} cm\")\n",
    "sisi3 = int(input(\"Masukkan panjang sisi 3 dalam cm = \"))\n",
    "print(f\"panjang sisi 3 = {sisi3} cm\")\n",
    "s = (sisi1 + sisi2 + sisi3)/2\n",
    "luas = (s*(s-sisi1)*(s-sisi2)*(s-sisi3))**0.5\n",
    "print(f\"Luas segitiga adalah {round(luas)} cm2\")"
   ]
  },
  {
   "cell_type": "code",
   "execution_count": 27,
   "metadata": {},
   "outputs": [
    {
     "name": "stdout",
     "output_type": "stream",
     "text": [
      "Menghitung Volume Kubus\n"
     ]
    },
    {
     "name": "stdout",
     "output_type": "stream",
     "text": [
      "panjang sisi = 160 cm\n",
      "Volume kubus adalah 4096000 cm3\n"
     ]
    }
   ],
   "source": [
    "#Menghitung volume kubus\n",
    "\n",
    "print(\"Menghitung Volume Kubus\")\n",
    "sisi = int(input(\"Masukkan panjang sisi dalam cm = \"))\n",
    "print(f\"panjang sisi = {sisi} cm\")\n",
    "volume = sisi**3\n",
    "print(f\"Volume kubus adalah {volume} cm3\")"
   ]
  },
  {
   "cell_type": "code",
   "execution_count": 33,
   "metadata": {},
   "outputs": [
    {
     "name": "stdout",
     "output_type": "stream",
     "text": [
      "Nama teman pertama Anda = Ariq \n",
      "Nama teman kedua Anda = Yona \n",
      "Nama teman ketiga Anda = Zida \n",
      "Nama teman keempat Anda = Gilang \n",
      "Nama teman kelima Anda = Fito \n",
      "Nama teman-teman Anda adalah ['Ariq', 'Fito', 'Gilang', 'Yona', 'Zida']\n"
     ]
    }
   ],
   "source": [
    "#Mengurutkan nama\n",
    "list_nama = []\n",
    "nama1 = input(\"Masukkan nama teman pertama Anda = \")\n",
    "list_nama.append(nama1)\n",
    "print(f'Nama teman pertama Anda = {nama1} ')\n",
    "nama2 = input(\"Masukkan nama teman ke-2 Anda = \")\n",
    "list_nama.append(nama2)\n",
    "print(f'Nama teman kedua Anda = {nama2} ')  \n",
    "nama3 = input(\"Masukkan nama teman ke-3 Anda = \")\n",
    "list_nama.append(nama3)\n",
    "print(f'Nama teman ketiga Anda = {nama3} ')\n",
    "nama4 = input(\"Masukkan nama teman ke-4 Anda = \")\n",
    "list_nama.append(nama4)\n",
    "print(f'Nama teman keempat Anda = {nama4} ')\n",
    "nama5 = input(\"Masukkan nama teman ke-5 Anda = \")\n",
    "list_nama.append(nama5)\n",
    "print(f'Nama teman kelima Anda = {nama5} ')\n",
    "\n",
    "list_nama.sort()\n",
    "print(f'Nama teman-teman Anda adalah {list_nama}')"
   ]
  },
  {
   "cell_type": "code",
   "execution_count": 48,
   "metadata": {},
   "outputs": [
    {
     "name": "stdout",
     "output_type": "stream",
     "text": [
      "Mohon maaf angka yang Anda masukkan : 47 tidak termasuk dalam kategori FizzBuzz\n"
     ]
    }
   ],
   "source": [
    "#FIZZBUZZ\n",
    "angka = int(input(\"Masukkan angka 1-50 = \"))\n",
    "if angka > 1 and angka < 50:\n",
    "    if angka%3 == 0 and angka%5 == 0:\n",
    "        print(f\"Angka Anda = {angka}, FizzBuzz!\")\n",
    "    elif angka%3 == 0:\n",
    "        print(f\"Angka Anda = {angka}, Fizz!\")\n",
    "    elif angka%5 == 0:\n",
    "        print(f\"Angka Anda = {angka}, Buzz!\")\n",
    "    else:\n",
    "        print(f\"Mohon maaf angka yang Anda masukkan : {angka}, tidak termasuk dalam kategori FizzBuzz\")\n",
    "else:\n",
    "    print(f\"Angka yang Anda masukkan : {angka},  di luar rentang. Masukkan lagi.\")"
   ]
  },
  {
   "cell_type": "code",
   "execution_count": 60,
   "metadata": {},
   "outputs": [
    {
     "name": "stdout",
     "output_type": "stream",
     "text": [
      "\n",
      "Nama Anda       = zizi\n",
      "Nomor Telp Anda = 62656362546532\n",
      "Kode Anda       = zizi532\n"
     ]
    }
   ],
   "source": [
    "##Menghitung jumlah angka yang dimasukkan User\n",
    "nama = input(\"masukkan nama Anda = \")\n",
    "angka = input(\"masukkan nomor telp Anda = \")\n",
    "print(f\"\"\"\n",
    "Nama Anda       = {nama}\n",
    "Nomor Telp Anda = {angka}\"\"\")\n",
    "angka[3:5]\n",
    "kode = nama+angka[-3:]\n",
    "print(f\"Kode Anda       = {kode}\")"
   ]
  },
  {
   "cell_type": "code",
   "execution_count": 62,
   "metadata": {},
   "outputs": [
    {
     "name": "stdout",
     "output_type": "stream",
     "text": [
      "Angka Anda = 67, adalah bilangan prima\n"
     ]
    }
   ],
   "source": [
    "prima = ['2', '3', '5', '7', '11', '13', '17', '19', '23', '29', '31', '37', '41', '43', '47', '53', '59', '61', '67', '71', '73', '79', '83', '89', '97']\n",
    "angka = input(\"Masukkan angka dari 1-100 = \")\n",
    "if angka in prima:\n",
    "    print(f\"Angka Anda = {angka}, adalah bilangan prima\")\n",
    "else: \n",
    "    print(f\"Angka Anda = {angka}, bukan bilangan prima\")"
   ]
  },
  {
   "cell_type": "code",
   "execution_count": 77,
   "metadata": {},
   "outputs": [
    {
     "name": "stdout",
     "output_type": "stream",
     "text": [
      "Prima antara 10 dan 30 adalah : \n",
      "11\n",
      "13\n",
      "17\n",
      "19\n",
      "23\n",
      "29\n"
     ]
    }
   ],
   "source": [
    "##Mencetak seluruh bilangan prima di antara rentang\n",
    "prima = [2, 3, 5, 7, 11, 13, 17, 19, 23, 29, 31, 37, 41, 43, 47, 53, 59, 61, 67, 71, 73, 79, 83, 89, 97]\n",
    "start = int(input(\"masukkan rentang terendah = \"))\n",
    "end = int(input(\"masukkan rentang tertinggi = \"))\n",
    "print(f\"Prima antara {start} dan {end} adalah : \")  \n",
    "for angka in prima:\n",
    "    if angka >= start and angka <= end:\n",
    "        print(angka)\n"
   ]
  },
  {
   "cell_type": "code",
   "execution_count": 32,
   "metadata": {},
   "outputs": [
    {
     "name": "stdout",
     "output_type": "stream",
     "text": [
      "Bilangan genap antara 25 dan 30 adalah : \n",
      "26\n",
      "28\n",
      "30\n"
     ]
    }
   ],
   "source": [
    "start = int(input(\"masukkan rentang terendah = \"))\n",
    "end = int(input(\"masukkan rentang tertinggi = \"))\n",
    "print(f\"Bilangan genap antara {start} dan {end} adalah : \") \n",
    "\n",
    "for angka in range(start, end+1):\n",
    "    if angka % 2 == 0:\n",
    "        print(angka)"
   ]
  },
  {
   "cell_type": "code",
   "execution_count": 1,
   "metadata": {},
   "outputs": [
    {
     "name": "stdout",
     "output_type": "stream",
     "text": [
      "\n",
      "Sistem Pemantauan Pengunjung Perpustakaan\n",
      "1. Lihat daftar pengunjung\n",
      "2. Tambahkan pengunjung\n",
      "3. Hapus pengunjung\n",
      "4. Statistik pengunjung\n",
      "5. Exit\n",
      "Belum ada pengunjung di perpustakaan\n",
      "\n",
      "Sistem Pemantauan Pengunjung Perpustakaan\n",
      "1. Lihat daftar pengunjung\n",
      "2. Tambahkan pengunjung\n",
      "3. Hapus pengunjung\n",
      "4. Statistik pengunjung\n",
      "5. Exit\n",
      "\n",
      "    Nama Anda           = Zaraa\n",
      "    Tanggal Peminjaman  = 2025-02-07 00:00:00\n",
      "    Tanggal Ekspektasi  = 2025-02-14 00:00:00\n",
      "    Tanggal Pengembalian= 2025-02-14 00:00:00\n",
      "    \n",
      "Buku telah dikembalikan tepat waktu\n",
      "\n",
      "Sistem Pemantauan Pengunjung Perpustakaan\n",
      "1. Lihat daftar pengunjung\n",
      "2. Tambahkan pengunjung\n",
      "3. Hapus pengunjung\n",
      "4. Statistik pengunjung\n",
      "5. Exit\n",
      "Total pengunjung = 1\n",
      "Jumlah pengunjung yang tepat waktu = 1\n",
      "Jumlah pengunjung yang terlambat = 0\n",
      "\n",
      "Sistem Pemantauan Pengunjung Perpustakaan\n",
      "1. Lihat daftar pengunjung\n",
      "2. Tambahkan pengunjung\n",
      "3. Hapus pengunjung\n",
      "4. Statistik pengunjung\n",
      "5. Exit\n",
      "Data pengunjung dengan nama Zaraa telah dihapus\n",
      "\n",
      "Sistem Pemantauan Pengunjung Perpustakaan\n",
      "1. Lihat daftar pengunjung\n",
      "2. Tambahkan pengunjung\n",
      "3. Hapus pengunjung\n",
      "4. Statistik pengunjung\n",
      "5. Exit\n",
      "Belum ada pengunjung di perpustakaan\n",
      "\n",
      "Sistem Pemantauan Pengunjung Perpustakaan\n",
      "1. Lihat daftar pengunjung\n",
      "2. Tambahkan pengunjung\n",
      "3. Hapus pengunjung\n",
      "4. Statistik pengunjung\n",
      "5. Exit\n",
      "Belum ada pengunjung di perpustakaan\n",
      "\n",
      "Sistem Pemantauan Pengunjung Perpustakaan\n",
      "1. Lihat daftar pengunjung\n",
      "2. Tambahkan pengunjung\n",
      "3. Hapus pengunjung\n",
      "4. Statistik pengunjung\n",
      "5. Exit\n"
     ]
    }
   ],
   "source": [
    "#MEMBUAT SISTEM PENGUNJUNGAN PERPUSTAKAAN\n",
    "from datetime import datetime\n",
    "\n",
    "pengunjung = []\n",
    "\n",
    "def tambah_pengunjung():\n",
    "    nama = input(\"Masukkan nama Anda = \")\n",
    "    tanggal_pinjam = input(\"Masukkan tanggal peminjaman buku (yyyy-mm-dd) = \")\n",
    "    tanggal_balik1 = input(\"Masukkan tanggal ekspektasi pengembalian buku (yyyy-mm-dd) = \")\n",
    "    tanggal_balik2 = input(\"Masukkan tanggal pengembalian buku sekarang (yyyy-mm-dd) = \") \n",
    "\n",
    "    tanggal_pinjam = datetime.strptime(tanggal_pinjam, '%Y-%m-%d')\n",
    "    tanggal_balik1 = datetime.strptime(tanggal_balik1, '%Y-%m-%d')\n",
    "    tanggal_balik2 = datetime.strptime(tanggal_balik2, '%Y-%m-%d')  \n",
    "\n",
    "    print(f\"\"\"\n",
    "    Nama Anda           = {nama}\n",
    "    Tanggal Peminjaman  = {tanggal_pinjam}\n",
    "    Tanggal Ekspektasi  = {tanggal_balik1}\n",
    "    Tanggal Pengembalian= {tanggal_balik2}\n",
    "    \"\"\")\n",
    "\n",
    "    if tanggal_balik2 > tanggal_balik1:\n",
    "        status = 'Terlambat'\n",
    "        print(\"Terlambat mengembalikan buku\")\n",
    "    else:\n",
    "        status = 'Tepat waktu'\n",
    "        print(\"Buku telah dikembalikan tepat waktu\")\n",
    "\n",
    "#menambahkan pengunjung ke daftar\n",
    "    pengunjung.append({\n",
    "        'nama' : nama,\n",
    "        'tanggal_pinjam' : tanggal_pinjam,\n",
    "        'tanggal_balik1' : tanggal_balik1,\n",
    "        'tanggal_balik2' : tanggal_balik2,\n",
    "        'status' : status\n",
    "    })\n",
    "\n",
    "#menampilkan daftar pengunjung\n",
    "def lihat_daftar_pengunjung():\n",
    "    if len(pengunjung) == 0:\n",
    "        print(\"Belum ada pengunjung di perpustakaan\")\n",
    "    else:\n",
    "        for p in pengunjung:\n",
    "            print(f\"\"\"\n",
    "            Nama Anda           = {p['nama']}\n",
    "            Tanggal Peminjaman  = {p['tanggal_pinjam']}\n",
    "            Tanggal Ekspektasi  = {p['tanggal_balik1']}\n",
    "            Tanggal Pengembalian= {p['tanggal_balik2']}\n",
    "            Status              = {p['status']}\n",
    "            \"\"\")\n",
    "\n",
    "def statistik_pengunjung():\n",
    "    tepat_waktu = 0\n",
    "    terlambat = 0\n",
    "    for p in pengunjung:\n",
    "        if p['status'] == 'Tepat waktu':\n",
    "            tepat_waktu += 1\n",
    "        else:\n",
    "            terlambat += 1\n",
    "    print(f\"Total pengunjung = {len(pengunjung)}\")\n",
    "    print(f\"Jumlah pengunjung yang tepat waktu = {tepat_waktu}\")\n",
    "    print(f\"Jumlah pengunjung yang terlambat = {terlambat}\")\n",
    "\n",
    "def hapus_pengunjung():\n",
    "    nama = input(\"Masukkan nama yang akan dihapus = \")\n",
    "    for p in pengunjung:\n",
    "        if p['nama'] == nama:\n",
    "            pengunjung.remove(p)\n",
    "            print(f\"Data pengunjung dengan nama {nama} telah dihapus\")\n",
    "            return\n",
    "    print(f\"Data pengunjung dengan nama {nama} tidak ditemukan\")\n",
    "\n",
    "def menu():\n",
    "    while True:\n",
    "        print(\"\\nSistem Pemantauan Pengunjung Perpustakaan\")\n",
    "        print(\"1. Lihat daftar pengunjung\")\n",
    "        print(\"2. Tambahkan pengunjung\")\n",
    "        print(\"3. Hapus pengunjung\")\n",
    "        print(\"4. Statistik pengunjung\")\n",
    "        print(\"5. Exit\")\n",
    "        pilih = input(\"Pilih menu (1-5) = \")\n",
    "        if pilih == '1':\n",
    "            lihat_daftar_pengunjung()\n",
    "        elif pilih == '2':\n",
    "            tambah_pengunjung()\n",
    "        elif pilih == '3':\n",
    "            hapus_pengunjung()\n",
    "        elif pilih == '4':\n",
    "            statistik_pengunjung()\n",
    "        elif pilih == '5':\n",
    "            break\n",
    "        else:\n",
    "            print(\"Pilihan tidak valid. Coba lagi.\")\n",
    "\n",
    "menu()"
   ]
  },
  {
   "cell_type": "code",
   "execution_count": null,
   "metadata": {},
   "outputs": [
    {
     "name": "stdout",
     "output_type": "stream",
     "text": [
      "\n",
      "Menu Daftar Belanja:\n",
      "1. Tambah item\n",
      "2. Hapus item\n",
      "3. Tampilkan daftar belanja\n",
      "4. Keluar\n",
      "Daftar belanja masih kosong\n",
      "\n",
      "Menu Daftar Belanja:\n",
      "1. Tambah item\n",
      "2. Hapus item\n",
      "3. Tampilkan daftar belanja\n",
      "4. Keluar\n",
      "sabun telah ditambahkan ke daftar belanja dengan harga 10000.0\n",
      "\n",
      "Menu Daftar Belanja:\n",
      "1. Tambah item\n",
      "2. Hapus item\n",
      "3. Tampilkan daftar belanja\n",
      "4. Keluar\n",
      "sampo telah ditambahkan ke daftar belanja dengan harga 23000.0\n",
      "\n",
      "Menu Daftar Belanja:\n",
      "1. Tambah item\n",
      "2. Hapus item\n",
      "3. Tampilkan daftar belanja\n",
      "4. Keluar\n",
      "Pilihan tidak valid. Coba lagi.\n",
      "\n",
      "Menu Daftar Belanja:\n",
      "1. Tambah item\n",
      "2. Hapus item\n",
      "3. Tampilkan daftar belanja\n",
      "4. Keluar\n",
      "Pilihan tidak valid. Coba lagi.\n",
      "\n",
      "Menu Daftar Belanja:\n",
      "1. Tambah item\n",
      "2. Hapus item\n",
      "3. Tampilkan daftar belanja\n",
      "4. Keluar\n",
      "Daftar belanja:\n",
      "- sabun : Rp 10000.0\n",
      "- sampo : Rp 23000.0\n",
      "Jumlah total item: 2 dengan Total Pengeluaran : Rp 33000.0\n",
      "\n",
      "Menu Daftar Belanja:\n",
      "1. Tambah item\n",
      "2. Hapus item\n",
      "3. Tampilkan daftar belanja\n",
      "4. Keluar\n",
      "kecap telah ditambahkan ke daftar belanja dengan harga 3000.0\n",
      "\n",
      "Menu Daftar Belanja:\n",
      "1. Tambah item\n",
      "2. Hapus item\n",
      "3. Tampilkan daftar belanja\n",
      "4. Keluar\n",
      "Daftar belanja:\n",
      "- sabun : Rp 10000.0\n",
      "- sampo : Rp 23000.0\n",
      "- kecap : Rp 3000.0\n",
      "Jumlah total item: 3 dengan Total Pengeluaran : Rp 36000.0\n",
      "\n",
      "Menu Daftar Belanja:\n",
      "1. Tambah item\n",
      "2. Hapus item\n",
      "3. Tampilkan daftar belanja\n",
      "4. Keluar\n",
      "Terima kasih telah menggunakan menu daftar belanja\n"
     ]
    }
   ],
   "source": [
    "##MEMBUAT DAFTAR BELANJA\n",
    "\n",
    "daftar_belanja = []\n",
    "\n",
    "def tambah_item():\n",
    "    item = input(\"Masukkan nama item yang ingin ditambahkan: \")\n",
    "    harga = float(input(\"Masukkan harga barang = \"))\n",
    "    daftar_belanja.append({'item': item, 'harga': harga})\n",
    "    print(f\"{item} telah ditambahkan ke daftar belanja dengan harga {harga}\")\n",
    "\n",
    "def hapus_item(): \n",
    "    item_hapus = input(\"Masukkan nama item yang ingin dihapus: \")\n",
    "    harga_hapus = float(input(\"Masukkan harga barang yang ingin dihapus: \"))\n",
    "    for item in daftar_belanja:\n",
    "        if item['item'] == item_hapus and item['harga'] == harga_hapus:\n",
    "            daftar_belanja.remove(item)\n",
    "            print(f\"{item_hapus} seharga Rp{harga_hapus} telah dihapus dari daftar belanja\")\n",
    "            return\n",
    "    print(f\"{item_hapus} seharga Rp{harga_hapus} telah dihapus dari daftar belanja\")\n",
    "\n",
    "def tampilkan_daftar():\n",
    "    if len(daftar_belanja) == 0:\n",
    "        print(\"Daftar belanja masih kosong\")\n",
    "    else:\n",
    "        print(\"Daftar belanja:\")\n",
    "        total_pengeluaran = 0\n",
    "        for item in daftar_belanja:\n",
    "            print(f\"- {item['item']} : Rp {item['harga']}\")\n",
    "            total_pengeluaran += item['harga']\n",
    "        print(f\"Jumlah total item: {len(daftar_belanja)} dengan Total Pengeluaran : Rp {total_pengeluaran}\")\n",
    "\n",
    "def menu():\n",
    "    while True:\n",
    "        print(\"\\nMenu Daftar Belanja:\")\n",
    "        print(\"1. Tambah item\")\n",
    "        print(\"2. Hapus item\")\n",
    "        print(\"3. Tampilkan daftar belanja\")\n",
    "        print(\"4. Keluar\")\n",
    "        pilih = input(\"Pilih menu (1-4) = \")\n",
    "        if pilih == '1':\n",
    "            tambah_item()\n",
    "        elif pilih == '2':\n",
    "            hapus_item()\n",
    "        elif pilih == '3':\n",
    "            tampilkan_daftar()\n",
    "        elif pilih == '4':\n",
    "            print(\"Terima kasih telah menggunakan menu daftar belanja\")\n",
    "            break\n",
    "        else:\n",
    "            print(\"Pilihan tidak valid. Coba lagi.\")\n",
    "\n",
    "menu()"
   ]
  },
  {
   "cell_type": "code",
   "execution_count": null,
   "metadata": {},
   "outputs": [],
   "source": []
  },
  {
   "cell_type": "code",
   "execution_count": 4,
   "metadata": {},
   "outputs": [
    {
     "ename": "AttributeError",
     "evalue": "'NoneType' object has no attribute 'reverse'",
     "output_type": "error",
     "traceback": [
      "\u001b[1;31m---------------------------------------------------------------------------\u001b[0m",
      "\u001b[1;31mAttributeError\u001b[0m                            Traceback (most recent call last)",
      "Cell \u001b[1;32mIn[4], line 3\u001b[0m\n\u001b[0;32m      1\u001b[0m data \u001b[38;5;241m=\u001b[39m [\u001b[38;5;241m1\u001b[39m,\u001b[38;5;241m5\u001b[39m,\u001b[38;5;241m6\u001b[39m,\u001b[38;5;241m3\u001b[39m,\u001b[38;5;241m4\u001b[39m,\u001b[38;5;241m0\u001b[39m,\u001b[38;5;241m2\u001b[39m]\n\u001b[1;32m----> 3\u001b[0m \u001b[43mdata\u001b[49m\u001b[38;5;241;43m.\u001b[39;49m\u001b[43msort\u001b[49m\u001b[43m(\u001b[49m\u001b[43m)\u001b[49m\u001b[38;5;241;43m.\u001b[39;49m\u001b[43mreverse\u001b[49m()\n\u001b[0;32m      4\u001b[0m \u001b[38;5;28mprint\u001b[39m(data)\n",
      "\u001b[1;31mAttributeError\u001b[0m: 'NoneType' object has no attribute 'reverse'"
     ]
    }
   ],
   "source": [
    "data = [1,5,6,3,4,0,2]\n",
    "\n",
    "data.sort().reverse()\n",
    "print(data)"
   ]
  },
  {
   "cell_type": "code",
   "execution_count": 15,
   "metadata": {},
   "outputs": [
    {
     "name": "stdout",
     "output_type": "stream",
     "text": [
      "a memiliki nilai 10\n",
      "b memiliki nilai 20\n",
      "c memiliki nilai 30\n"
     ]
    }
   ],
   "source": [
    "list_kode = ['a', 'b', 'c']\n",
    "list_nilai = [10,20,30]\n",
    "for kode, nilai in zip(list_kode, list_nilai):\n",
    "    print(f\"{kode} memiliki nilai {nilai}\")"
   ]
  },
  {
   "cell_type": "code",
   "execution_count": 11,
   "metadata": {},
   "outputs": [
    {
     "name": "stdout",
     "output_type": "stream",
     "text": [
      "aldi mendapat nilai 100\n",
      "dimas mendapat nilai 100\n",
      "prabowo mendapat nilai 80\n",
      "stef mendapat nilai 80\n",
      "zara mendapat nilai 100\n"
     ]
    }
   ],
   "source": [
    "list_nama = ['aldi', 'dimas', 'prabowo', 'stef', 'zara']\n",
    "list_nilai = [100,100,80,80,100]\n",
    "\n",
    "# looping nama dan nilai secara sekaligus\n",
    "for nama, nilai in zip(list_nama, list_nilai):\n",
    "    print(f'{nama} mendapat nilai {nilai}')\n"
   ]
  },
  {
   "cell_type": "code",
   "execution_count": null,
   "metadata": {},
   "outputs": [
    {
     "name": "stdout",
     "output_type": "stream",
     "text": [
      "Judul buku : \n",
      "Nama penulis : Dilan\n",
      "\n",
      "Daftar buku Anda:\n",
      "1 |  | Dilan\n",
      "Judul buku : ya\n",
      "Nama penulis : Pulang\n",
      "\n",
      "Daftar buku Anda:\n",
      "1 |  | Dilan\n",
      "2 | ya | Pulang\n",
      "Judul buku : ya\n",
      "Nama penulis : Laut Bercerita\n",
      "\n",
      "Daftar buku Anda:\n",
      "1 |  | Dilan\n",
      "2 | ya | Pulang\n",
      "3 | ya | Laut Bercerita\n",
      "Judul buku : tidak\n",
      "Nama penulis : \n",
      "\n",
      "Daftar buku Anda:\n",
      "1 |  | Dilan\n",
      "2 | ya | Pulang\n",
      "3 | ya | Laut Bercerita\n",
      "4 | tidak | \n",
      "Judul buku : \n",
      "Nama penulis : \n",
      "\n",
      "Daftar buku Anda:\n",
      "1 |  | Dilan\n",
      "2 | ya | Pulang\n",
      "3 | ya | Laut Bercerita\n",
      "4 | tidak | \n",
      "5 |  | \n"
     ]
    }
   ],
   "source": [
    "list_buku = []\n",
    "\n",
    "while True:\n",
    "    judul = input(\"Masukkan judul buku: \")\n",
    "    print(f\"Judul buku : {judul}\")\n",
    "    penulis = input(\"Masukkan nama penulis buku: \")\n",
    "    print(f\"Nama penulis : {penulis}\")\n",
    "\n",
    "    data_buku = [judul, penulis]\n",
    "    list_buku.append(data_buku)\n",
    "    \n",
    "    print(\"\\nDaftar buku Anda:\") \n",
    "    for index, buku in enumerate(list_buku):\n",
    "        print(f\"{index+1} | {buku[0]} | {buku[1]}\")\n",
    "\n",
    "    lagi = input(\"Apakah ingin menambahkan buku lagi? (ya/tidak) = \").lower()\n",
    "    if lagi == 'tidak':\n",
    "        break\n",
    "\n",
    "\n",
    "print(\"Penambahan Selesai\")"
   ]
  },
  {
   "cell_type": "code",
   "execution_count": 2,
   "metadata": {},
   "outputs": [
    {
     "name": "stdout",
     "output_type": "stream",
     "text": [
      "dict lama = {'zara': 80, 'fito': 85, 'alya': 82, 'yona': 87}\n",
      "dict baru = {'zara': 80, 'fito': 85, 'yona': 87}\n",
      "dict popitem = {'zara': 80, 'fito': 85}\n"
     ]
    }
   ],
   "source": [
    "dict_nama = {\n",
    "    'zara' : 80,\n",
    "    'fito' : 85,\n",
    "    'alya' : 82,\n",
    "    'yona' : 87\n",
    "}\n",
    "\n",
    "print(f'dict lama = {dict_nama}')\n",
    "dict_nama.pop('alya')\n",
    "print(f'dict baru = {dict_nama}')\n",
    "dict_nama.popitem()\n",
    "print(f'dict popitem = {dict_nama}')"
   ]
  },
  {
   "cell_type": "code",
   "execution_count": 18,
   "metadata": {},
   "outputs": [
    {
     "name": "stdout",
     "output_type": "stream",
     "text": [
      "KEY    NAMA    NIM    NILAI  BEASISWA  \n",
      "========================================\n",
      "MHS1   zara    09232    95       1     \n",
      "MHS2   fito    09233    90       1     \n",
      "MHS3   alya    09234    85       1     \n",
      "MHS4   yona    09235    80       0     \n"
     ]
    }
   ],
   "source": [
    "#BUAT FORMAT DATABASE\n",
    "\n",
    "mahasiswa1 = {\n",
    "    'nama' : 'zara',\n",
    "    'nim' : '09232',\n",
    "    'nilai' : 95,\n",
    "    'beasiswa' : True\n",
    "}\n",
    "\n",
    "mahasiswa2 = {\n",
    "    'nama' : 'fito',\n",
    "    'nim' : '09233',\n",
    "    'nilai' : 90,\n",
    "    'beasiswa' : True\n",
    "}\n",
    "\n",
    "mahasiswa3 = {\n",
    "    'nama' : 'alya',\n",
    "    'nim' : '09234',\n",
    "    'nilai' : 85,\n",
    "    'beasiswa' : True\n",
    "}\n",
    "\n",
    "mahasiswa4 = {\n",
    "    'nama' : 'yona',\n",
    "    'nim' : '09235',\n",
    "    'nilai' : 80,\n",
    "    'beasiswa' : False\n",
    "}\n",
    "\n",
    "dict_mahasiswa = {\n",
    "    'MHS1' : mahasiswa1,\n",
    "    'MHS2' : mahasiswa2,\n",
    "    'MHS3' : mahasiswa3,\n",
    "    'MHS4' : mahasiswa4\n",
    "}\n",
    "\n",
    "print(f\"{'KEY':<6} {'NAMA':<7} {'NIM':<6} {'NILAI':<6} {'BEASISWA':<10}\")\n",
    "print(\"=\"*40)\n",
    "for mahasiswa in dict_mahasiswa:\n",
    "    KEY = mahasiswa\n",
    "    NAMA = dict_mahasiswa[mahasiswa]['nama']\n",
    "    NIM = dict_mahasiswa[mahasiswa]['nim']\n",
    "    NILAI = dict_mahasiswa[mahasiswa]['nilai']\n",
    "    BEASISWA = dict_mahasiswa[mahasiswa]['beasiswa']\n",
    "\n",
    "    print(f\"{KEY:<6} {NAMA:<7} {NIM:<6} {NILAI:^6} {BEASISWA:^10}\")\n"
   ]
  },
  {
   "cell_type": "code",
   "execution_count": 38,
   "metadata": {},
   "outputs": [
    {
     "name": "stdout",
     "output_type": "stream",
     "text": [
      "SELAMAT DATANG DI DATABASE MAHASISWA^20\n",
      "==================================================\n"
     ]
    },
    {
     "name": "stdout",
     "output_type": "stream",
     "text": [
      "\n",
      "NAMA     NIM    SKS   LAHIR     \n",
      "========================================\n",
      "Abdillah 09232   130   05/30/02  \n",
      "\n",
      "NAMA     NIM    SKS   LAHIR     \n",
      "========================================\n",
      "Abdillah 09232   130   05/30/02  \n",
      "Akbar   09155   130   08/15/01  \n",
      "\n",
      "NAMA     NIM    SKS   LAHIR     \n",
      "========================================\n",
      "Abdillah 09232   130   05/30/02  \n",
      "Akbar   09155   130   08/15/01  \n",
      "Alifa   09151   131   01/07/02  \n",
      "\n",
      "NAMA     NIM    SKS   LAHIR     \n",
      "========================================\n",
      "Abdillah 09232   130   05/30/02  \n",
      "Akbar   09155   130   08/15/01  \n",
      "Alifa   09151   131   01/07/02  \n",
      "Alfito  09121   135   03/15/02  \n",
      "Penambahan Database Selesai\n"
     ]
    }
   ],
   "source": [
    "#BUAT DATABASE DALAM DICT DENGAN INPUT USER\n",
    "\n",
    "import datetime\n",
    "import os\n",
    "import string\n",
    "import random\n",
    "\n",
    "mhs_template = {\n",
    "    'nama':'nama',\n",
    "    'nim':'00000',\n",
    "    'sks': 0,\n",
    "    'lahir': datetime.datetime(1111,11,11)\n",
    "}\n",
    "\n",
    "mhs_data = {}\n",
    "\n",
    "os.system('cls')\n",
    "print(f\"{'SELAMAT DATANG DI DATABASE MAHASISWA^20'}\")\n",
    "print(\"=\"*50)\n",
    "\n",
    "while True:\n",
    "    mahasiswa = dict.fromkeys(mhs_template.keys())\n",
    "    mahasiswa['nama'] = input(\"Masukkan nama Anda : \")\n",
    "    mahasiswa['nim'] = input(\"Masukkan NIM Anda : \")\n",
    "    mahasiswa['sks'] = int(input(\"Masukkan jumlah SKS Anda : \"))\n",
    "\n",
    "    TAHUN_LAHIR = int(input(\"Masukkan tahun lahir Anda (YYYY): \"))\n",
    "    BULAN_LAHIR = int(input(\"Masukkan bulan lahir Anda (1-12): \"))\n",
    "    TANGGAL_LAHIR = int(input(\"Masukkan tanggal lahir Anda (1-31): \"))\n",
    "   \n",
    "    mahasiswa['lahir'] = datetime.datetime(TAHUN_LAHIR,BULAN_LAHIR,TANGGAL_LAHIR)\n",
    "    \n",
    "    mhs_data[mahasiswa['nim']] = mahasiswa\n",
    "\n",
    "    print(f\"\\n{'NAMA':<7} {'NIM':^6} {'SKS':^6} {'LAHIR':<10}\")\n",
    "    print(\"=\"*40)\n",
    "    \n",
    "    for key, data in mhs_data.items():\n",
    "        NAMA = data['nama']\n",
    "        NIM = data['nim']\n",
    "        SKS = data['sks']\n",
    "        LAHIR = data['lahir'].strftime(\"%x\")\n",
    "\n",
    "        print(f\"{NAMA:<7} {NIM:^6} {SKS:^6} {LAHIR:<10}\")\n",
    "\n",
    "    lagi = input(\"Apakah ingin menambahkan mahasiswa lagi? (ya/tidak) = \").lower()\n",
    "    if lagi == 'tidak':\n",
    "        break\n",
    "\n",
    "print(\"Penambahan Database Selesai\")"
   ]
  },
  {
   "cell_type": "code",
   "execution_count": 36,
   "metadata": {},
   "outputs": [
    {
     "name": "stdout",
     "output_type": "stream",
     "text": [
      "KEY = QSCVKL\n"
     ]
    }
   ],
   "source": [
    "import string\n",
    "import random\n",
    "\n",
    "KEY = ''.join((random.choice(string.ascii_uppercase) for i in range(6)))    \n",
    "print(f\"KEY = {KEY}\")"
   ]
  },
  {
   "cell_type": "code",
   "execution_count": 44,
   "metadata": {},
   "outputs": [
    {
     "name": "stdout",
     "output_type": "stream",
     "text": [
      "\n",
      "Menu Daftar Belanja:\n",
      "1. Tambah item\n",
      "2. Lihat keranjang\n",
      "3. Keluar\n",
      "apel telah ditambahkan ke daftar belanja dengan harga 5000\n",
      "\n",
      "Menu Daftar Belanja:\n",
      "1. Tambah item\n",
      "2. Lihat keranjang\n",
      "3. Keluar\n",
      "Daftar belanja:\n"
     ]
    },
    {
     "ename": "TypeError",
     "evalue": "string indices must be integers, not 'str'",
     "output_type": "error",
     "traceback": [
      "\u001b[1;31m---------------------------------------------------------------------------\u001b[0m",
      "\u001b[1;31mTypeError\u001b[0m                                 Traceback (most recent call last)",
      "Cell \u001b[1;32mIn[44], line 43\u001b[0m\n\u001b[0;32m     40\u001b[0m         \u001b[38;5;28;01melse\u001b[39;00m:\n\u001b[0;32m     41\u001b[0m             \u001b[38;5;28mprint\u001b[39m(\u001b[38;5;124m\"\u001b[39m\u001b[38;5;124mPilihan tidak valid. Coba lagi.\u001b[39m\u001b[38;5;124m\"\u001b[39m)\n\u001b[1;32m---> 43\u001b[0m \u001b[43mmenu\u001b[49m\u001b[43m(\u001b[49m\u001b[43m)\u001b[49m\n",
      "Cell \u001b[1;32mIn[44], line 36\u001b[0m, in \u001b[0;36mmenu\u001b[1;34m()\u001b[0m\n\u001b[0;32m     34\u001b[0m     tambah_belanja()\n\u001b[0;32m     35\u001b[0m \u001b[38;5;28;01melif\u001b[39;00m pilih \u001b[38;5;241m==\u001b[39m \u001b[38;5;124m'\u001b[39m\u001b[38;5;124m2\u001b[39m\u001b[38;5;124m'\u001b[39m:\n\u001b[1;32m---> 36\u001b[0m     \u001b[43mlihat_keranjang\u001b[49m\u001b[43m(\u001b[49m\u001b[43m)\u001b[49m\n\u001b[0;32m     37\u001b[0m \u001b[38;5;28;01melif\u001b[39;00m pilih \u001b[38;5;241m==\u001b[39m \u001b[38;5;124m'\u001b[39m\u001b[38;5;124m3\u001b[39m\u001b[38;5;124m'\u001b[39m:\n\u001b[0;32m     38\u001b[0m     \u001b[38;5;28mprint\u001b[39m(\u001b[38;5;124m\"\u001b[39m\u001b[38;5;124mTerima kasih telah menggunakan menu daftar belanja\u001b[39m\u001b[38;5;124m\"\u001b[39m)\n",
      "Cell \u001b[1;32mIn[44], line 19\u001b[0m, in \u001b[0;36mlihat_keranjang\u001b[1;34m()\u001b[0m\n\u001b[0;32m     17\u001b[0m total_pengeluaran \u001b[38;5;241m=\u001b[39m \u001b[38;5;241m0\u001b[39m\n\u001b[0;32m     18\u001b[0m \u001b[38;5;28;01mfor\u001b[39;00m item \u001b[38;5;129;01min\u001b[39;00m daftar_belanja:\n\u001b[1;32m---> 19\u001b[0m     \u001b[38;5;28mprint\u001b[39m(\u001b[38;5;124mf\u001b[39m\u001b[38;5;124m\"\u001b[39m\u001b[38;5;124m- \u001b[39m\u001b[38;5;132;01m{\u001b[39;00m\u001b[43mitem\u001b[49m\u001b[43m[\u001b[49m\u001b[38;5;124;43m'\u001b[39;49m\u001b[38;5;124;43mitem\u001b[39;49m\u001b[38;5;124;43m'\u001b[39;49m\u001b[43m]\u001b[49m\u001b[38;5;132;01m}\u001b[39;00m\u001b[38;5;124m : \u001b[39m\u001b[38;5;132;01m{\u001b[39;00mitem[\u001b[38;5;124m'\u001b[39m\u001b[38;5;124mjumlah\u001b[39m\u001b[38;5;124m'\u001b[39m]\u001b[38;5;132;01m}\u001b[39;00m\u001b[38;5;124m x \u001b[39m\u001b[38;5;132;01m{\u001b[39;00mitem[\u001b[38;5;124m'\u001b[39m\u001b[38;5;124mharga\u001b[39m\u001b[38;5;124m'\u001b[39m]\u001b[38;5;132;01m}\u001b[39;00m\u001b[38;5;124m\"\u001b[39m)\n\u001b[0;32m     20\u001b[0m     total_pengeluaran \u001b[38;5;241m+\u001b[39m\u001b[38;5;241m=\u001b[39m item[\u001b[38;5;124m'\u001b[39m\u001b[38;5;124mjumlah\u001b[39m\u001b[38;5;124m'\u001b[39m] \u001b[38;5;241m*\u001b[39m item[\u001b[38;5;124m'\u001b[39m\u001b[38;5;124mharga\u001b[39m\u001b[38;5;124m'\u001b[39m]\n\u001b[0;32m     21\u001b[0m \u001b[38;5;28mprint\u001b[39m(\u001b[38;5;124mf\u001b[39m\u001b[38;5;124m\"\u001b[39m\u001b[38;5;124mJumlah total item: \u001b[39m\u001b[38;5;132;01m{\u001b[39;00m\u001b[38;5;28mlen\u001b[39m(daftar_belanja)\u001b[38;5;132;01m}\u001b[39;00m\u001b[38;5;124m dengan Total Pengeluaran : Rp \u001b[39m\u001b[38;5;132;01m{\u001b[39;00mtotal_pengeluaran\u001b[38;5;132;01m}\u001b[39;00m\u001b[38;5;124m\"\u001b[39m)\n",
      "\u001b[1;31mTypeError\u001b[0m: string indices must be integers, not 'str'"
     ]
    }
   ],
   "source": [
    "#FUNCTION\n",
    "\n",
    "daftar_belanja = {}\n",
    "\n",
    "def tambah_belanja():\n",
    "    item = input(\"Masukkan nama item yang ingin ditambahkan: \")\n",
    "    jumlah = input(\"Masukkan jumlah item yang ingin dibeli: \")\n",
    "    harga = input(\"Masukkan harga barang = \")\n",
    "    daftar_belanja.update({'item': item, 'jumlah': jumlah, 'harga': harga})\n",
    "    print(f\"{item} telah ditambahkan ke daftar belanja dengan harga {harga}\")\n",
    "\n",
    "def lihat_keranjang():\n",
    "    if len(daftar_belanja) == 0:\n",
    "        print(\"Daftar belanja masih kosong\")\n",
    "    else:\n",
    "        print(\"Daftar belanja:\")\n",
    "        total_pengeluaran = 0\n",
    "        for item in daftar_belanja:\n",
    "            print(f\"- {item['item']} : {item['jumlah']} x {item['harga']}\")\n",
    "            total_pengeluaran += item['jumlah'] * item['harga']\n",
    "        print(f\"Jumlah total item: {len(daftar_belanja)} dengan Total Pengeluaran : Rp {total_pengeluaran}\")\n",
    "\n",
    "def keluar():\n",
    "    print(\"Terima kasih telah menggunakan menu daftar belanja\")\n",
    "\n",
    "def menu():\n",
    "    while True:\n",
    "        print(\"\\nMenu Daftar Belanja:\")\n",
    "        print(\"1. Tambah item\")\n",
    "        print(\"2. Lihat keranjang\")\n",
    "        print(\"3. Keluar\")\n",
    "        pilih = input(\"Pilih menu (1-3) = \")\n",
    "        if pilih == '1':\n",
    "            tambah_belanja()\n",
    "        elif pilih == '2':\n",
    "            lihat_keranjang()\n",
    "        elif pilih == '3':\n",
    "            print(\"Terima kasih telah menggunakan menu daftar belanja\")\n",
    "            break\n",
    "        else:\n",
    "            print(\"Pilihan tidak valid. Coba lagi.\")\n",
    "\n",
    "menu()"
   ]
  },
  {
   "cell_type": "code",
   "execution_count": null,
   "metadata": {},
   "outputs": [],
   "source": []
  }
 ],
 "metadata": {
  "kernelspec": {
   "display_name": "Python 3",
   "language": "python",
   "name": "python3"
  },
  "language_info": {
   "codemirror_mode": {
    "name": "ipython",
    "version": 3
   },
   "file_extension": ".py",
   "mimetype": "text/x-python",
   "name": "python",
   "nbconvert_exporter": "python",
   "pygments_lexer": "ipython3",
   "version": "3.13.1"
  }
 },
 "nbformat": 4,
 "nbformat_minor": 2
}
