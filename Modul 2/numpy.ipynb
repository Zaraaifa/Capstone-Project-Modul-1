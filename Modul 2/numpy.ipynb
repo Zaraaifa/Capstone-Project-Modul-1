{
 "cells": [
  {
   "cell_type": "code",
   "execution_count": 2,
   "metadata": {},
   "outputs": [],
   "source": [
    "import numpy as np"
   ]
  },
  {
   "cell_type": "markdown",
   "metadata": {},
   "source": [
    "Angka tunggal adalah 0 dimensi, kalau angka2 tunggal digabung2kan jadi 1 dimensi"
   ]
  },
  {
   "cell_type": "code",
   "execution_count": 3,
   "metadata": {},
   "outputs": [
    {
     "data": {
      "text/plain": [
       "array([1, 2, 3, 4, 5])"
      ]
     },
     "execution_count": 3,
     "metadata": {},
     "output_type": "execute_result"
    }
   ],
   "source": [
    "mylist = [1,2,3,4,5]\n",
    "myarray = np.array(mylist)\n",
    "myarray"
   ]
  },
  {
   "cell_type": "markdown",
   "metadata": {},
   "source": [
    "1 DIMENSI adalah kumpulan 0 dimensi yang ada banyakm hanya 1 list (list = [])"
   ]
  },
  {
   "cell_type": "code",
   "execution_count": 4,
   "metadata": {},
   "outputs": [
    {
     "data": {
      "text/plain": [
       "numpy.ndarray"
      ]
     },
     "execution_count": 4,
     "metadata": {},
     "output_type": "execute_result"
    }
   ],
   "source": [
    "arr_1d = np.array([1,2,3,4,5])\n",
    "type(arr_1d)"
   ]
  },
  {
   "cell_type": "code",
   "execution_count": null,
   "metadata": {},
   "outputs": [
    {
     "name": "stdout",
     "output_type": "stream",
     "text": [
      "1\n",
      "(5,)\n"
     ]
    }
   ],
   "source": [
    "arr_1d = np.array([1,2,3,4,5])\n",
    "print(arr_1d.ndim) #cek dimensi\n",
    "print(arr_1d.shape)  #cek shape array (baris dan kolomnya)"
   ]
  },
  {
   "cell_type": "markdown",
   "metadata": {},
   "source": [
    "2 DIMENSI adalah kumpulan dari 1 dimensi yang ada banyak. (gabungan beberapa list di dalam list -> list = [ [...], [...] ])"
   ]
  },
  {
   "cell_type": "code",
   "execution_count": null,
   "metadata": {},
   "outputs": [
    {
     "name": "stdout",
     "output_type": "stream",
     "text": [
      "[[ 1  2  3  4  5]\n",
      " [ 7  8  9 10 11]\n",
      " [12 13 14 15 16]]\n",
      "2\n",
      "(3, 5)\n"
     ]
    }
   ],
   "source": [
    "mylist = ([1,2,3,4,5], [7,8,9,10,11], [12,13,14,15,16])\n",
    "arr_2d = np.array(mylist)\n",
    "print(arr_2d)\n",
    "\n",
    "print(arr_2d.ndim)\n",
    "print(arr_2d.shape)  # -> outputnya 3 baris 5 kolom (3,5)\n"
   ]
  },
  {
   "cell_type": "markdown",
   "metadata": {},
   "source": [
    "3 DIMENSI adalah kumpulan dari 2 dimensi yang ada banyak -> list = [ [[...], [...]] , [[...], [...]] ]"
   ]
  },
  {
   "cell_type": "code",
   "execution_count": null,
   "metadata": {},
   "outputs": [
    {
     "name": "stdout",
     "output_type": "stream",
     "text": [
      "[[[ 1  2  3  4  5]\n",
      "  [ 7  8  9 10 11]\n",
      "  [12 13 14 15 16]]\n",
      "\n",
      " [[ 1  2  3  4  5]\n",
      "  [ 7  8  9 10 11]\n",
      "  [12 13 14 15 16]]]\n",
      "3\n",
      "(2, 3, 5)\n"
     ]
    }
   ],
   "source": [
    "mylist = ([[1,2,3,4,5], [7,8,9,10,11], [12,13,14,15,16]],\n",
    "          [[1,2,3,4,5], [7,8,9,10,11], [12,13,14,15,16]])\n",
    "arr_3d = np.array(mylist)\n",
    "\n",
    "print(arr_3d)\n",
    "\n",
    "print(arr_3d.ndim)\n",
    "print(arr_3d.shape)  # -> outputnya 2 matix 3 baris dengan isi data masing2 5 kolom (2,3,5)"
   ]
  },
  {
   "cell_type": "markdown",
   "metadata": {},
   "source": [
    "RESHAPE"
   ]
  },
  {
   "cell_type": "code",
   "execution_count": 22,
   "metadata": {},
   "outputs": [
    {
     "name": "stdout",
     "output_type": "stream",
     "text": [
      "[[1 2 3 4 1]\n",
      " [2 3 4 1 2]\n",
      " [3 4 1 2 3]\n",
      " [4 1 2 3 4]\n",
      " [1 2 3 4 1]\n",
      " [2 3 4 1 2]\n",
      " [3 4 1 2 3]\n",
      " [4 1 2 3 4]\n",
      " [1 2 3 4 1]\n",
      " [2 3 4 1 2]\n",
      " [3 4 1 2 3]\n",
      " [4 1 2 3 4]]\n",
      "---------------------------- INI KEBALIKANNYA ----------------------------\n",
      "[[1 2 3 4 1 2 3 4 1 2 3 4]\n",
      " [1 2 3 4 1 2 3 4 1 2 3 4]\n",
      " [1 2 3 4 1 2 3 4 1 2 3 4]\n",
      " [1 2 3 4 1 2 3 4 1 2 3 4]\n",
      " [1 2 3 4 1 2 3 4 1 2 3 4]]\n"
     ]
    }
   ],
   "source": [
    "mylist = [ \n",
    "    [[1,2,3,4], [1,2,3,4], [1,2,3,4]],\n",
    "    [[1,2,3,4], [1,2,3,4], [1,2,3,4]],\n",
    "    [[1,2,3,4], [1,2,3,4], [1,2,3,4]],\n",
    "    [[1,2,3,4], [1,2,3,4], [1,2,3,4]],\n",
    "    [[1,2,3,4], [1,2,3,4], [1,2,3,4]],\n",
    "]\n",
    "\n",
    "arr_3d = np.array(mylist)\n",
    "\n",
    "# SYARAT RESHAPE = hasil kali baris, kolom dan isi tetap sama\n",
    "\n",
    "# hasil kali = 5*3*4 = 60\n",
    "print(arr_3d.reshape(12,5))\n",
    "\n",
    "print(\"---------------------------- INI KEBALIKANNYA ----------------------------\")\n",
    "\n",
    "print(arr_3d.reshape(5,12))"
   ]
  },
  {
   "cell_type": "code",
   "execution_count": null,
   "metadata": {},
   "outputs": [
    {
     "data": {
      "text/plain": [
       "60"
      ]
     },
     "execution_count": 23,
     "metadata": {},
     "output_type": "execute_result"
    }
   ],
   "source": [
    "# SIZE = jumlah membernya\n",
    "\n",
    "mylist = [ \n",
    "    [[1,2,3,4], [1,2,3,4], [1,2,3,4]],\n",
    "    [[1,2,3,4], [1,2,3,4], [1,2,3,4]],\n",
    "    [[1,2,3,4], [1,2,3,4], [1,2,3,4]],\n",
    "    [[1,2,3,4], [1,2,3,4], [1,2,3,4]],\n",
    "    [[1,2,3,4], [1,2,3,4], [1,2,3,4]],\n",
    "]\n",
    "\n",
    "arr_3d = np.array(mylist)\n",
    "arr_3d.size "
   ]
  },
  {
   "cell_type": "markdown",
   "metadata": {},
   "source": [
    "SOAL LATIHAN BASIC"
   ]
  },
  {
   "cell_type": "code",
   "execution_count": 24,
   "metadata": {},
   "outputs": [
    {
     "name": "stdout",
     "output_type": "stream",
     "text": [
      "[[[1 2 3]\n",
      "  [4 5 6]]\n",
      "\n",
      " [[4 5 6]\n",
      "  [7 8 9]]\n",
      "\n",
      " [[7 8 9]\n",
      "  [1 2 3]]]\n",
      "3\n",
      "(3, 2, 3)\n"
     ]
    }
   ],
   "source": [
    "#soal 1\n",
    "\n",
    "mylist = [[1,2,3], [4,5,6]], [[4,5,6], [7,8,9]], [[7,8,9], [1,2,3]]\n",
    "arr_3d = np.array(mylist)\n",
    "print(arr_3d)\n",
    "print(arr_3d.ndim)\n",
    "print(arr_3d.shape)"
   ]
  },
  {
   "cell_type": "code",
   "execution_count": 36,
   "metadata": {},
   "outputs": [
    {
     "name": "stdout",
     "output_type": "stream",
     "text": [
      "[[[1 2 3]]\n",
      "\n",
      " [[4 5 6]]\n",
      "\n",
      " [[4 5 6]]\n",
      "\n",
      " [[7 8 9]]\n",
      "\n",
      " [[7 8 9]]\n",
      "\n",
      " [[1 2 3]]]\n"
     ]
    }
   ],
   "source": [
    "#soal 2\n",
    "mylist = [[1,2,3], [4,5,6]], [[4,5,6], [7,8,9]], [[7,8,9], [1,2,3]]\n",
    "arr_3d = np.array(mylist)\n",
    "print(arr_3d.reshape(6,1,3))\n",
    "\n"
   ]
  },
  {
   "cell_type": "code",
   "execution_count": 30,
   "metadata": {},
   "outputs": [
    {
     "name": "stdout",
     "output_type": "stream",
     "text": [
      "[[[1 2 3]\n",
      "  [4 5 6]]\n",
      "\n",
      " [[4 5 6]\n",
      "  [7 8 9]]\n",
      "\n",
      " [[7 8 9]\n",
      "  [1 2 3]]]\n"
     ]
    }
   ],
   "source": [
    "#soal 3\n",
    "mylist = [[1,2,3], [4,5,6]], [[4,5,6], [7,8,9]], [[7,8,9], [1,2,3]]\n",
    "arr_3d = np.array(mylist)\n",
    "print(arr_3d.reshape(3,2,3))"
   ]
  },
  {
   "cell_type": "code",
   "execution_count": 31,
   "metadata": {},
   "outputs": [
    {
     "name": "stdout",
     "output_type": "stream",
     "text": [
      "[[1 2 3 4 5 6]\n",
      " [4 5 6 7 8 9]\n",
      " [7 8 9 1 2 3]]\n"
     ]
    }
   ],
   "source": [
    "#soal 4\n",
    "mylist = [[1,2,3], [4,5,6]], [[4,5,6], [7,8,9]], [[7,8,9], [1,2,3]]\n",
    "arr_3d = np.array(mylist)\n",
    "print(arr_3d.reshape(3,6))"
   ]
  },
  {
   "cell_type": "markdown",
   "metadata": {},
   "source": [
    "ZEROES DAN ONES (membuat numpy yang bentuknya )"
   ]
  },
  {
   "cell_type": "code",
   "execution_count": 44,
   "metadata": {},
   "outputs": [
    {
     "name": "stdout",
     "output_type": "stream",
     "text": [
      "[0. 0. 0.]\n",
      "--------------------\n",
      "[1. 1. 1.]\n",
      "--------------------\n",
      "[[0. 0. 0. 0.]\n",
      " [0. 0. 0. 0.]\n",
      " [0. 0. 0. 0.]]\n",
      "--------------------\n",
      "[[[1. 1. 1. 1.]\n",
      "  [1. 1. 1. 1.]\n",
      "  [1. 1. 1. 1.]]\n",
      "\n",
      " [[1. 1. 1. 1.]\n",
      "  [1. 1. 1. 1.]\n",
      "  [1. 1. 1. 1.]]]\n"
     ]
    }
   ],
   "source": [
    "#1 dimensi\n",
    "print(np.zeros(3))\n",
    "\n",
    "print(\"--------------------\")\n",
    "\n",
    "print(np.ones(3))\n",
    "\n",
    "print(\"--------------------\")\n",
    "\n",
    "print(np.zeros([3,4]))\n",
    "\n",
    "print(\"--------------------\")\n",
    "\n",
    "print(np.ones([2,3,4]))\n"
   ]
  },
  {
   "cell_type": "code",
   "execution_count": 45,
   "metadata": {},
   "outputs": [
    {
     "data": {
      "text/plain": [
       "array([[[1., 1., 1., 1.],\n",
       "        [1., 1., 1., 1.],\n",
       "        [1., 1., 1., 1.]],\n",
       "\n",
       "       [[1., 1., 1., 1.],\n",
       "        [1., 1., 1., 1.],\n",
       "        [1., 1., 1., 1.]]])"
      ]
     },
     "execution_count": 45,
     "metadata": {},
     "output_type": "execute_result"
    }
   ],
   "source": [
    "np.empty([2,3,4])"
   ]
  },
  {
   "cell_type": "markdown",
   "metadata": {},
   "source": [
    "ARANGE (ARRAY RANGE) -> membuat range untuk array"
   ]
  },
  {
   "cell_type": "code",
   "execution_count": null,
   "metadata": {},
   "outputs": [
    {
     "name": "stdout",
     "output_type": "stream",
     "text": [
      "0\n",
      "1\n",
      "2\n",
      "3\n",
      "4\n",
      "5\n",
      "6\n",
      "7\n",
      "8\n",
      "9\n"
     ]
    },
    {
     "data": {
      "text/plain": [
       "array([0, 2, 4, 6, 8])"
      ]
     },
     "execution_count": 48,
     "metadata": {},
     "output_type": "execute_result"
    }
   ],
   "source": [
    "#versi biasa\n",
    "for i in range (10):\n",
    "    print(i)\n",
    "\n",
    "\n",
    "#versi numpy\n",
    "np.arange(0,10,2) #> range(start,stop,step)"
   ]
  },
  {
   "cell_type": "markdown",
   "metadata": {},
   "source": [
    "RANDOM"
   ]
  },
  {
   "cell_type": "code",
   "execution_count": null,
   "metadata": {},
   "outputs": [
    {
     "data": {
      "text/plain": [
       "array([[0.37454012, 0.95071431, 0.73199394],\n",
       "       [0.59865848, 0.15601864, 0.15599452]])"
      ]
     },
     "execution_count": 55,
     "metadata": {},
     "output_type": "execute_result"
    }
   ],
   "source": [
    "# RAND(shape) -> hasilnya float\n",
    "np.random.rand(2,3)  #> output setiap run-nya selalu baru/ganti\n",
    "\n",
    "#kalau mau sekali saja random, terus di run ga berubah pakai random.seed() -> isi angkanya bebas tp hasilnya akan disimpan di kode tersebut\n",
    "np.random.seed(42)  #> hasil random disimpan ke var42, kalau diganti nanti randomnya ganti, tp bisa dipanggil lagi\n",
    "np.random.rand(2,3)\n"
   ]
  },
  {
   "cell_type": "code",
   "execution_count": null,
   "metadata": {},
   "outputs": [
    {
     "data": {
      "text/plain": [
       "array([[ 0.49671415, -0.1382643 ,  0.64768854],\n",
       "       [ 1.52302986, -0.23415337, -0.23413696]])"
      ]
     },
     "execution_count": 58,
     "metadata": {},
     "output_type": "execute_result"
    }
   ],
   "source": [
    "# RANDN(shape) -> hasilnya float tapi ada angka negatif (-)\n",
    "np.random.seed(42)\n",
    "np.random.randn(2,3)  #> randn(baris,kolom)"
   ]
  },
  {
   "cell_type": "code",
   "execution_count": null,
   "metadata": {},
   "outputs": [
    {
     "data": {
      "text/plain": [
       "array([[ 6,  3, 10],\n",
       "       [ 7,  4,  6]], dtype=int32)"
      ]
     },
     "execution_count": 61,
     "metadata": {},
     "output_type": "execute_result"
    }
   ],
   "source": [
    "# RANDINT(start, stop, shape) -> hasilnya integer\n",
    "np.random.seed(42)\n",
    "np.random.randint(0,11, size=(2,3))  #> randint(start, stop, size=(baris,kolom))"
   ]
  },
  {
   "cell_type": "markdown",
   "metadata": {},
   "source": [
    "MAX, MIN, ARGMAX, ARGMIN, INDEXING"
   ]
  },
  {
   "cell_type": "code",
   "execution_count": null,
   "metadata": {},
   "outputs": [
    {
     "name": "stdout",
     "output_type": "stream",
     "text": [
      "[[[151 192 114 171]\n",
      "  [160 120 182 186]\n",
      "  [174 174 187 199]]\n",
      "\n",
      " [[123 102 121 152]\n",
      "  [101 187 129 137]\n",
      "  [101 163 159 120]]]\n",
      "\n",
      "nilai min dari arr = 101\n",
      "letak dari nilai min arr = 16\n",
      "nilai max dari arr = 199\n",
      "letak dari nilai max arr = 11\n",
      "\n",
      "matrix ke 1, baris ke 0, kolom ke 3 = 152\n",
      "matrix ke 1, baris ke 0, kolom ke 0 = 123\n",
      "matrix ke 1, baris ke 0, semua kolom = [123 102 121 152]\n",
      "matrix ke 1, baris ke 1, semua kolom = [101 187 129 137]\n",
      "semua matrix, semua baris, kolom ke 2 = [[114 182 187]\n",
      " [121 129 159]]\n"
     ]
    }
   ],
   "source": [
    "np.random.seed(42)\n",
    "arr = np.random.randint(100,200, size=(2,3,4))\n",
    "print(arr)\n",
    "\n",
    "print(f'\\nnilai min dari arr = {np.min(arr)}')\n",
    "print(f'letak dari nilai min arr = {np.argmin(arr)}')\n",
    "print(f'nilai max dari arr = {np.max(arr)}')\n",
    "print(f'letak dari nilai max arr = {np.argmax(arr)}\\n')\n",
    "\n",
    "#INDEXING\n",
    "print('matrix ke 1, baris ke 0, kolom ke 3 =',arr[1][0][3])  #> matrix ke 1, baris ke 0, kolom ke 3\n",
    "print('matrix ke 1, baris ke 0, kolom ke 0 =',arr[1,0,0]) #> matrix ke 1, baris ke 0, kolom ke 0\n",
    "print('matrix ke 1, baris ke 0, semua kolom =',arr[1,0,:]) #> matrix ke 1, baris ke 0, semua kolom\n",
    "print('matrix ke 1, baris ke 1, semua kolom =',arr[1,1]) #> matrix ke 1, baris ke 1, semua kolom\n",
    "print('semua matrix, semua baris, kolom ke 2 =',arr[:,:,2]) #> semua matrix, semua baris, kolom ke 2\n"
   ]
  },
  {
   "cell_type": "markdown",
   "metadata": {},
   "source": [
    "FANCY INDEXING"
   ]
  },
  {
   "cell_type": "code",
   "execution_count": null,
   "metadata": {},
   "outputs": [],
   "source": [
    "np.random.seed(42)\n",
    "arr = np.random.randint(0,100, size=(10))"
   ]
  },
  {
   "cell_type": "markdown",
   "metadata": {},
   "source": [
    "SOAL LATIHAN "
   ]
  },
  {
   "cell_type": "code",
   "execution_count": 19,
   "metadata": {},
   "outputs": [
    {
     "name": "stdout",
     "output_type": "stream",
     "text": [
      "[[[51 92 14]\n",
      "  [71 60 20]]\n",
      "\n",
      " [[82 86 74]\n",
      "  [74 87 99]]\n",
      "\n",
      " [[23  2 21]\n",
      "  [52  1 87]]]\n",
      "\n",
      "------setelah diganti------\n",
      "\n",
      "[[[51  1 14]\n",
      "  [71 60 20]]\n",
      "\n",
      " [[82 86 74]\n",
      "  [74 87 99]]\n",
      "\n",
      " [[23  2 21]\n",
      "  [52  1 87]]]\n"
     ]
    }
   ],
   "source": [
    "#NOMOR 1\n",
    "np.random.seed(42)\n",
    "arr = np.random.randint(0,100, size=(3,2,3))\n",
    "print(arr)\n",
    "print(\"\\n------setelah diganti------\\n\")\n",
    "arr[0,0,1] = 1\n",
    "print(arr)"
   ]
  },
  {
   "cell_type": "code",
   "execution_count": null,
   "metadata": {},
   "outputs": [
    {
     "name": "stdout",
     "output_type": "stream",
     "text": [
      "[51 92 14 71 60 20 82 86 74 74 87 99 23 21 52 87 29 37 63 59 20 32 75 57\n",
      " 21 88 48 90 58 41 91 59 79 14 61 61 46 61 50 54 63]\n"
     ]
    }
   ],
   "source": [
    "#NOMOR 2\n",
    "np.random.seed(42)\n",
    "arr = np.random.randint(0,100, size=(3,5,3))\n",
    "print(arr[arr>10])"
   ]
  },
  {
   "cell_type": "code",
   "execution_count": 21,
   "metadata": {},
   "outputs": [
    {
     "name": "stdout",
     "output_type": "stream",
     "text": [
      "[[[38 28 14]\n",
      "  [42  7 20]\n",
      "  [38 18 22]\n",
      "  [10 10 23]\n",
      "  [35 39 23]]\n",
      "\n",
      " [[ 2 21  1]\n",
      "  [23 43 29]\n",
      "  [37  1 20]\n",
      "  [32 11 21]\n",
      "  [43 24 48]]\n",
      "\n",
      " [[26 41 27]\n",
      "  [15 14 46]\n",
      "  [43  2 36]\n",
      "  [ 6 20  8]\n",
      "  [38 17  3]]]\n",
      "\n",
      "------setelah diganti------\n",
      "\n",
      "[[[38 28 14]\n",
      "  [42  0 20]\n",
      "  [38 18 22]\n",
      "  [10 10 23]\n",
      "  [35 39 23]]\n",
      "\n",
      " [[ 0 21  0]\n",
      "  [23 43 29]\n",
      "  [37  0 20]\n",
      "  [32 11 21]\n",
      "  [43 24 48]]\n",
      "\n",
      " [[26 41 27]\n",
      "  [15 14 46]\n",
      "  [43  0 36]\n",
      "  [ 0 20  0]\n",
      "  [38 17  0]]]\n"
     ]
    }
   ],
   "source": [
    "#NOMOR 3\n",
    "np.random.seed(42)\n",
    "arr = np.random.randint(0,50, size=(3,5,3))\n",
    "print(arr)\n",
    "print(\"\\n------setelah diganti------\\n\")\n",
    "arr[arr<10] = 0\n",
    "print(arr)"
   ]
  },
  {
   "cell_type": "code",
   "execution_count": null,
   "metadata": {},
   "outputs": [
    {
     "name": "stdout",
     "output_type": "stream",
     "text": [
      "[[ 6 19]\n",
      " [14 10]\n",
      " [ 7  6]]\n",
      "[[18 10 10]\n",
      " [ 3  7  2]]\n",
      "---------------- GABUNG ----------------\n",
      "[[ 6 19 18  3]\n",
      " [14 10 10  7]\n",
      " [ 7  6 10  2]]\n"
     ]
    }
   ],
   "source": [
    "#NOMOR 4\n",
    "np.random.seed(42)\n",
    "arr1 = np.random.randint(0,20, size=(3,2))\n",
    "arr2 = np.random.randint(0,20, size=(2,3))\n",
    "\n",
    "print(arr1)\n",
    "print(arr2)\n",
    "print(\"---------------- GABUNG ----------------\")\n",
    "print(np.concatenate((arr1,arr2.T), axis=1))"
   ]
  },
  {
   "cell_type": "code",
   "execution_count": 33,
   "metadata": {},
   "outputs": [
    {
     "name": "stdout",
     "output_type": "stream",
     "text": [
      "[[ 1  9]\n",
      " [ 2 15]]\n"
     ]
    }
   ],
   "source": [
    "#NOMOR 5\n",
    "A = np.array([[1,3],[2,5]])\n",
    "V = np.array([1,3])\n",
    "\n",
    "print(A*V)"
   ]
  },
  {
   "cell_type": "code",
   "execution_count": 35,
   "metadata": {},
   "outputs": [
    {
     "name": "stdout",
     "output_type": "stream",
     "text": [
      "[[ 4  8 12 16]\n",
      " [ 2  6 10 14]\n",
      " [18 22 26 30]]\n"
     ]
    }
   ],
   "source": [
    "#NOMOR 6\n",
    "A = np.array([[2,4,6,8],[1,3,5,7],[9,11,13,15]])\n",
    "V = np.array([2,2,2,2])\n",
    "print(A*V)"
   ]
  },
  {
   "cell_type": "code",
   "execution_count": null,
   "metadata": {},
   "outputs": [],
   "source": []
  }
 ],
 "metadata": {
  "kernelspec": {
   "display_name": "Python 3",
   "language": "python",
   "name": "python3"
  },
  "language_info": {
   "codemirror_mode": {
    "name": "ipython",
    "version": 3
   },
   "file_extension": ".py",
   "mimetype": "text/x-python",
   "name": "python",
   "nbconvert_exporter": "python",
   "pygments_lexer": "ipython3",
   "version": "3.13.1"
  }
 },
 "nbformat": 4,
 "nbformat_minor": 2
}
