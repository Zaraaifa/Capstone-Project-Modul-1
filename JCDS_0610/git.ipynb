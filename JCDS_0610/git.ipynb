{
 "cells": [
  {
   "cell_type": "markdown",
   "metadata": {},
   "source": [
    "untracked/modified = belum di save (git add)\n",
    "staging area = konfirmasi ulang file yang mau di save\n",
    "commit = save"
   ]
  }
 ],
 "metadata": {
  "language_info": {
   "name": "python"
  }
 },
 "nbformat": 4,
 "nbformat_minor": 2
}
